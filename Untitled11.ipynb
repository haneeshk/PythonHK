{
 "cells": [
  {
   "cell_type": "code",
   "execution_count": 50,
   "metadata": {},
   "outputs": [],
   "source": [
    "extern crate ndarray;\n",
    "use std::fmt::Debug;\n",
    "use ndarray::prelude::*;"
   ]
  },
  {
   "cell_type": "code",
   "execution_count": 47,
   "metadata": {},
   "outputs": [
    {
     "name": "stdout",
     "output_type": "stream",
     "text": [
      "hello112222212_done\n",
      "hello112222212_done\n",
      "hello112222212_done\n"
     ]
    }
   ],
   "source": [
    "println!(\"{}\",&s);\n",
    "{\n",
    "let mut x=&mut s;\n",
    "\n",
    "//     println!(\"{}\",x);\n",
    "// println!(\"{}\",&x);\n",
    "//     x.push('1');\n",
    "\n",
    "//  x.push_str(\"_done\");\n",
    " println!(\"{}\",&x);\n",
    "\n",
    "};\n",
    "println!(\"{}\",&s);\n",
    "//  println!(\"{}\",x);"
   ]
  },
  {
   "cell_type": "code",
   "execution_count": 21,
   "metadata": {},
   "outputs": [
    {
     "ename": "Error",
     "evalue": "cannot find value `x` in this scope",
     "output_type": "error",
     "traceback": [
      "x",
      "\u001b[91m^\u001b[0m \u001b[94m\u001b[0m",
      "cannot find value `x` in this scope",
      "\u001b[1mhelp\u001b[0m: a local variable with a similar name exists\n\ns"
     ]
    }
   ],
   "source": [
    "fin f(s: &mut str)->(){\n",
    "    \n",
    "}"
   ]
  },
  {
   "cell_type": "code",
   "execution_count": 4,
   "metadata": {},
   "outputs": [
    {
     "ename": "Error",
     "evalue": "cannot find value `x` in this scope",
     "output_type": "error",
     "traceback": [
      "x",
      "\u001b[91m^\u001b[0m \u001b[94m\u001b[0m",
      "cannot find value `x` in this scope",
      "\u001b[1mhelp\u001b[0m: a local variable with a similar name exists\n\ns"
     ]
    }
   ],
   "source": [
    "x"
   ]
  },
  {
   "cell_type": "code",
   "execution_count": 53,
   "metadata": {},
   "outputs": [],
   "source": [
    "fn show_array<T: Debug>(values: &Array2<T>) {\n",
    "    let mut html = String::new();\n",
    "    html.push_str(\"<table>\");\n",
    "    for r in 0..(values.shape()[0]) {\n",
    "        html.push_str(\"<tr>\");\n",
    "        for c in 0..values.shape()[1] {\n",
    "            html.push_str(\"<td>\");\n",
    "            html.push_str(&format!(\"{:?}\", values[[r, c]]));\n",
    "            html.push_str(\"</td>\");\n",
    "        }\n",
    "        html.push_str(\"</tr>\");            \n",
    "    }\n",
    "    html.push_str(\"</table>\");\n",
    "    println!(\"EVCXR_BEGIN_CONTENT text/html\\n{}\\nEVCXR_END_CONTENT\", html);\n",
    "}"
   ]
  },
  {
   "cell_type": "code",
   "execution_count": 58,
   "metadata": {},
   "outputs": [
    {
     "ename": "Error",
     "evalue": "mismatched closing delimiter: `}`",
     "output_type": "error",
     "traceback": [
      "let data_2D = array![[[1.,2.,3.],[1.,2.,3.]]",
      "\u001b[91m                    ^\u001b[0m \u001b[94munclosed delimiter\u001b[0m",
      "mismatched closing delimiter: `}`"
     ]
    }
   ],
   "source": [
    "let data_2D = array![\n",
    "    [[1.,2.,3.],[1.,2.,3.]],\n",
    "     [[11.,12.,13.],[11.,12.,13.]],[[4.,5.,6.],[4.,5.,6.]];"
   ]
  },
  {
   "cell_type": "code",
   "execution_count": 57,
   "metadata": {},
   "outputs": [
    {
     "data": {
      "text/html": [
       "<table><tr><td>1.0</td><td>2.0</td><td>3.0</td></tr><tr><td>11.0</td><td>12.0</td><td>13.0</td></tr><tr><td>4.0</td><td>5.0</td><td>6.0</td></tr></table>"
      ],
      "text/plain": [
       "()"
      ]
     },
     "execution_count": 57,
     "metadata": {},
     "output_type": "execute_result"
    }
   ],
   "source": [
    "show_array(&data_2D)"
   ]
  },
  {
   "cell_type": "code",
   "execution_count": null,
   "metadata": {},
   "outputs": [],
   "source": []
  }
 ],
 "metadata": {
  "hide_input": false,
  "kernelspec": {
   "display_name": "Rust",
   "language": "rust",
   "name": "rust"
  },
  "language_info": {
   "codemirror_mode": "rust",
   "file_extension": ".rs",
   "mimetype": "text/rust",
   "name": "Rust",
   "pygment_lexer": "rust",
   "version": ""
  },
  "varInspector": {
   "cols": {
    "lenName": 16,
    "lenType": 16,
    "lenVar": 40
   },
   "kernels_config": {
    "python": {
     "delete_cmd_postfix": "",
     "delete_cmd_prefix": "del ",
     "library": "var_list.py",
     "varRefreshCmd": "print(var_dic_list())"
    },
    "r": {
     "delete_cmd_postfix": ") ",
     "delete_cmd_prefix": "rm(",
     "library": "var_list.r",
     "varRefreshCmd": "cat(var_dic_list()) "
    }
   },
   "types_to_exclude": [
    "module",
    "function",
    "builtin_function_or_method",
    "instance",
    "_Feature"
   ],
   "window_display": false
  }
 },
 "nbformat": 4,
 "nbformat_minor": 2
}
