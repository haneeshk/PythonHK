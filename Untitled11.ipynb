{
 "cells": [
  {
   "cell_type": "code",
   "execution_count": 50,
   "metadata": {},
   "outputs": [],
   "source": [
    "extern crate ndarray;\n",
    "use std::fmt::Debug;\n",
    "use ndarray::prelude::*;"
   ]
  },
  {
   "cell_type": "code",
   "execution_count": 47,
   "metadata": {},
   "outputs": [
    {
     "name": "stdout",
     "output_type": "stream",
     "text": [
      "hello112222212_done\n",
      "hello112222212_done\n",
      "hello112222212_done\n"
     ]
    }
   ],
   "source": [
    "println!(\"{}\",&s);\n",
    "{\n",
    "let mut x=&mut s;\n",
    "\n",
    "//     println!(\"{}\",x);\n",
    "// println!(\"{}\",&x);\n",
    "//     x.push('1');\n",
    "\n",
    "//  x.push_str(\"_done\");\n",
    " println!(\"{}\",&x);\n",
    "\n",
    "};\n",
    "println!(\"{}\",&s);\n",
    "//  println!(\"{}\",x);"
   ]
  },
  {
   "cell_type": "code",
   "execution_count": 21,
   "metadata": {},
   "outputs": [
    {
     "ename": "Error",
     "evalue": "cannot find value `x` in this scope",
     "output_type": "error",
     "traceback": [
      "x",
      "\u001b[91m^\u001b[0m \u001b[94m\u001b[0m",
      "cannot find value `x` in this scope",
      "\u001b[1mhelp\u001b[0m: a local variable with a similar name exists\n\ns"
     ]
    }
   ],
   "source": [
    "fin f(s: &mut str)->(){\n",
    "    \n",
    "}"
   ]
  },
  {
   "cell_type": "code",
   "execution_count": 4,
   "metadata": {},
   "outputs": [
    {
     "ename": "Error",
     "evalue": "cannot find value `x` in this scope",
     "output_type": "error",
     "traceback": [
      "x",
      "\u001b[91m^\u001b[0m \u001b[94m\u001b[0m",
      "cannot find value `x` in this scope",
      "\u001b[1mhelp\u001b[0m: a local variable with a similar name exists\n\ns"
     ]
    }
   ],
   "source": [
    "x"
   ]
  },
  {
   "cell_type": "code",
   "execution_count": 53,
   "metadata": {},
   "outputs": [],
   "source": [
    "fn show_array<T: Debug>(values: &Array2<T>) {\n",
    "    let mut html = String::new();\n",
    "    html.push_str(\"<table>\");\n",
    "    for r in 0..(values.shape()[0]) {\n",
    "        html.push_str(\"<tr>\");\n",
    "        for c in 0..values.shape()[1] {\n",
    "            html.push_str(\"<td>\");\n",
    "            html.push_str(&format!(\"{:?}\", values[[r, c]]));\n",
    "            html.push_str(\"</td>\");\n",
    "        }\n",
    "        html.push_str(\"</tr>\");            \n",
    "    }\n",
    "    html.push_str(\"</table>\");\n",
    "    println!(\"EVCXR_BEGIN_CONTENT text/html\\n{}\\nEVCXR_END_CONTENT\", html);\n",
    "}"
   ]
  },
  {
   "cell_type": "code",
   "execution_count": 64,
   "metadata": {},
   "outputs": [],
   "source": [
    "let data_2D = array![\n",
    "    [[1.,2.,3.],[1.,2.,3.]],\n",
    "     [[11.,12.,13.],[11.,12.,13.]],\n",
    "    [[4.,5.,6.],[4.,5.,6.]]];"
   ]
  },
  {
   "cell_type": "code",
   "execution_count": 60,
   "metadata": {},
   "outputs": [
    {
     "ename": "Error",
     "evalue": "mismatched types",
     "output_type": "error",
     "traceback": [
      "show_array(&data_2D)",
      "\u001b[91m           ^^^^^^^^\u001b[0m \u001b[94mexpected an array with a fixed size of 2 elements, found one with 3 elements\u001b[0m",
      "mismatched types"
     ]
    }
   ],
   "source": [
    "show_array(&data_2D)"
   ]
  },
  {
   "cell_type": "code",
   "execution_count": 67,
   "metadata": {},
   "outputs": [],
   "source": [
    "let x=(data_2D).mapv_into(|x| x.sin());"
   ]
  },
  {
   "cell_type": "code",
   "execution_count": 69,
   "metadata": {},
   "outputs": [
    {
     "data": {
      "text/plain": [
       "[[-0.9153217170507352, -0.5861997658378917, 0.2818715466875823],\n",
       " [-0.9153217170507352, -0.5861997658378917, 0.2818715466875823]], shape=[2, 3], strides=[3, 1], layout=Cc (0x5), const ndim=2"
      ]
     },
     "execution_count": 69,
     "metadata": {},
     "output_type": "execute_result"
    }
   ],
   "source": [
    "x.sum_axis(Axis(0))"
   ]
  },
  {
   "cell_type": "code",
   "execution_count": 70,
   "metadata": {},
   "outputs": [
    {
     "data": {
      "text/plain": [
       "[[[0.8414709848078965, 0.9092974268256817, 0.1411200080598672],\n",
       "  [0.8414709848078965, 0.9092974268256817, 0.1411200080598672]],\n",
       "\n",
       " [[-0.9999902065507035, -0.5365729180004349, 0.4201670368266409],\n",
       "  [-0.9999902065507035, -0.5365729180004349, 0.4201670368266409]],\n",
       "\n",
       " [[-0.7568024953079282, -0.9589242746631385, -0.27941549819892586],\n",
       "  [-0.7568024953079282, -0.9589242746631385, -0.27941549819892586]]], shape=[3, 2, 3], strides=[6, 3, 1], layout=Cc (0x5), const ndim=3"
      ]
     },
     "execution_count": 70,
     "metadata": {},
     "output_type": "execute_result"
    }
   ],
   "source": [
    "x"
   ]
  },
  {
   "cell_type": "code",
   "execution_count": null,
   "metadata": {},
   "outputs": [],
   "source": []
  }
 ],
 "metadata": {
  "hide_input": false,
  "kernelspec": {
   "display_name": "Rust",
   "language": "rust",
   "name": "rust"
  },
  "language_info": {
   "codemirror_mode": "rust",
   "file_extension": ".rs",
   "mimetype": "text/rust",
   "name": "Rust",
   "pygment_lexer": "rust",
   "version": ""
  },
  "varInspector": {
   "cols": {
    "lenName": 16,
    "lenType": 16,
    "lenVar": 40
   },
   "kernels_config": {
    "python": {
     "delete_cmd_postfix": "",
     "delete_cmd_prefix": "del ",
     "library": "var_list.py",
     "varRefreshCmd": "print(var_dic_list())"
    },
    "r": {
     "delete_cmd_postfix": ") ",
     "delete_cmd_prefix": "rm(",
     "library": "var_list.r",
     "varRefreshCmd": "cat(var_dic_list()) "
    }
   },
   "types_to_exclude": [
    "module",
    "function",
    "builtin_function_or_method",
    "instance",
    "_Feature"
   ],
   "window_display": false
  }
 },
 "nbformat": 4,
 "nbformat_minor": 2
}
