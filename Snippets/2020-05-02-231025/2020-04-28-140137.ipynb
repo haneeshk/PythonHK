{
 "cells": [
  {
   "cell_type": "code",
   "execution_count": 1,
   "metadata": {
    "collapsed": false
   },
   "outputs": [
   ],
   "source": [
    "#include<iostream>\n",
    "#include<vector>"
   ]
  },
  {
   "cell_type": "code",
   "execution_count": 2,
   "metadata": {
    "collapsed": false
   },
   "outputs": [
   ],
   "source": [
    "int i=24;\n",
    "double v[]={1.0,2.0,3.0};"
   ]
  },
  {
   "cell_type": "code",
   "execution_count": 3,
   "metadata": {
    "collapsed": false
   },
   "outputs": [
    {
     "name": "stdout",
     "output_type": "stream",
     "text": [
      "5\n"
     ]
    }
   ],
   "source": [
    "std::vector<double>v2{4.0,5.0};\n",
    "std::cout<<v2[1]<<\"\\n\";"
   ]
  },
  {
   "cell_type": "code",
   "execution_count": 4,
   "metadata": {
    "collapsed": false
   },
   "outputs": [
    {
     "name": "stdout",
     "output_type": "stream",
     "text": [
      "4\n",
      "5\n"
     ]
    }
   ],
   "source": [
    "for(auto x : v2) std::cout<<x<<\"\\n\";"
   ]
  },
  {
   "cell_type": "code",
   "execution_count": 12,
   "metadata": {
    "collapsed": false
   },
   "outputs": [
   ],
   "source": [
    "from sympy import Symbol,  sin, simplify, expand, diff "
   ]
  },
  {
   "cell_type": "code",
   "execution_count": 9,
   "metadata": {
    "collapsed": false
   },
   "outputs": [
   ],
   "source": [
    "x=Symbol(r\"\\,^j\\!\\mathbb{X}_{k}\")"
   ]
  },
  {
   "cell_type": "code",
   "execution_count": 3,
   "metadata": {
    "collapsed": false
   },
   "outputs": [
    {
     "data": {
      "text/latex": [
       "$\\displaystyle \\,^j\\!\\mathcal{X}_{k}$"
      ],
      "text/plain": [
       "\\,^j\\!\\mathcal{X}_{k}"
      ]
     },
     "execution_count": 3,
     "metadata": {
     },
     "output_type": "execute_result"
    }
   ],
   "source": [
    "x"
   ]
  },
  {
   "cell_type": "code",
   "execution_count": 13,
   "metadata": {
    "collapsed": false
   },
   "outputs": [
    {
     "data": {
      "text/latex": [
       "$\\displaystyle 2 \\,^j\\!\\mathbb{X}_{k} \\cos{\\left(\\left(\\,^j\\!\\mathbb{X}_{k}\\right)^{2} - 2 \\,^j\\!\\mathbb{X}_{k} + 1 \\right)} - 2 \\cos{\\left(\\left(\\,^j\\!\\mathbb{X}_{k}\\right)^{2} - 2 \\,^j\\!\\mathbb{X}_{k} + 1 \\right)}$"
      ],
      "text/plain": [
       "2*\\,^j\\!\\mathbb{X}_{k}*cos(\\,^j\\!\\mathbb{X}_{k}**2 - 2*\\,^j\\!\\mathbb{X}_{k} + 1) - 2*cos(\\,^j\\!\\mathbb{X}_{k}**2 - 2*\\,^j\\!\\mathbb{X}_{k} + 1)"
      ]
     },
     "execution_count": 13,
     "metadata": {
     },
     "output_type": "execute_result"
    }
   ],
   "source": [
    "diff(sin((x-1)**2),x)//Slash2(expand)"
   ]
  },
  {
   "cell_type": "code",
   "execution_count": 7,
   "metadata": {
    "collapsed": false
   },
   "outputs": [
   ],
   "source": [
    "import re\n",
    "def genPatt(patt):\n",
    "    p=re.compile(str(patt))\n",
    "    return lambda x: bool(re.search(p,str(x)))\n",
    "\n",
    "def only(patt,strs):\n",
    "    _ = genPatt(patt)\n",
    "    _ = filter(_, strs)\n",
    "    return list(_)\n",
    "def TableForm(lst):\n",
    "    print(*lst, sep='\\n')\n",
    "    \n",
    "    \n",
    "    \n",
    "    \n",
    "class Slash2:\n",
    "    def __init__(self, fn):\n",
    "        self.fn = fn\n",
    "\n",
    "    def __rfloordiv__(self, other):\n",
    "        return self.fn(other)    \n",
    "    \n",
    "    \n",
    "    \n",
    "# Print = Slash2(print)\n",
    "# Sum = Slash2(sum)\n",
    "# [1, 2, 3]//Sum//Print\n",
    "# [\"This is great\", 0.002, 3000.0002,1.2333]//Slash2(tableform)"
   ]
  },
  {
   "cell_type": "code",
   "execution_count": 0,
   "metadata": {
    "collapsed": false
   },
   "outputs": [
   ],
   "source": [
   ]
  }
 ],
 "metadata": {
  "kernelspec": {
   "display_name": "Python 3 (system-wide)",
   "language": "python",
   "metadata": {
    "cocalc": {
     "description": "Python 3 programming language",
     "priority": 100,
     "url": "https://www.python.org/"
    }
   },
   "name": "python3"
  },
  "language_info": {
   "codemirror_mode": {
    "name": "ipython",
    "version": 3
   },
   "file_extension": ".py",
   "mimetype": "text/x-python",
   "name": "python",
   "nbconvert_exporter": "python",
   "pygments_lexer": "ipython3",
   "version": "3.6.9"
  }
 },
 "nbformat": 4,
 "nbformat_minor": 4
}