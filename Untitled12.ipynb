{
 "cells": [
  {
   "cell_type": "code",
   "execution_count": 4,
   "metadata": {},
   "outputs": [],
   "source": [
    " extern crate ndarray;"
   ]
  },
  {
   "cell_type": "code",
   "execution_count": 9,
   "metadata": {},
   "outputs": [],
   "source": [
    "let x=ndarray::prelude::Array::linspace(0., 10., 11);"
   ]
  },
  {
   "cell_type": "code",
   "execution_count": 32,
   "metadata": {},
   "outputs": [],
   "source": [
    "fn clear(x: &mut f32){}"
   ]
  },
  {
   "cell_type": "code",
   "execution_count": 18,
   "metadata": {},
   "outputs": [],
   "source": [
    "let y=ndarray::prelude::arr2(&[[1.0,2.0],[3.0,4.0]]);"
   ]
  },
  {
   "cell_type": "code",
   "execution_count": 12,
   "metadata": {},
   "outputs": [
    {
     "data": {
      "text/plain": [
       "[[1.0, 2.0],\n",
       " [3.0, 4.0]], shape=[2, 2], strides=[2, 1], layout=Cc (0x5), const ndim=2"
      ]
     },
     "execution_count": 12,
     "metadata": {},
     "output_type": "execute_result"
    }
   ],
   "source": [
    "y"
   ]
  },
  {
   "cell_type": "code",
   "execution_count": 22,
   "metadata": {},
   "outputs": [
    {
     "data": {
      "text/plain": [
       "[3.0, 4.0], shape=[2], strides=[1], layout=CFcf (0xf), const ndim=1"
      ]
     },
     "execution_count": 22,
     "metadata": {},
     "output_type": "execute_result"
    }
   ],
   "source": [
    "y.t().dot(&x.slice(s![..2]))"
   ]
  },
  {
   "cell_type": "code",
   "execution_count": 15,
   "metadata": {},
   "outputs": [],
   "source": [
    "use ndarray::prelude::*;\n"
   ]
  },
  {
   "cell_type": "code",
   "execution_count": 25,
   "metadata": {},
   "outputs": [
    {
     "name": "stdout",
     "output_type": "stream",
     "text": [
      "0\n",
      "1\n",
      "2\n",
      "3\n",
      "4\n",
      "5\n",
      "6\n",
      "7\n",
      "8\n",
      "9\n",
      "10\n"
     ]
    }
   ],
   "source": [
    "for xi in x {println!(\"{}\",xi);};"
   ]
  },
  {
   "cell_type": "code",
   "execution_count": 28,
   "metadata": {},
   "outputs": [],
   "source": [
    "let x:f32=0.25;"
   ]
  },
  {
   "cell_type": "code",
   "execution_count": 31,
   "metadata": {},
   "outputs": [
    {
     "data": {
      "text/plain": [
       "0.25"
      ]
     },
     "execution_count": 31,
     "metadata": {},
     "output_type": "execute_result"
    }
   ],
   "source": [
    "let m=x."
   ]
  },
  {
   "cell_type": "code",
   "execution_count": 34,
   "metadata": {},
   "outputs": [
    {
     "ename": "Error",
     "evalue": "unused variable: `x`",
     "output_type": "error",
     "traceback": [
      "",
      "unused variable: `x`",
      "\u001b[1mhelp\u001b[0m: if this is intentional, prefix it with an underscore\n\n_x"
     ]
    },
    {
     "ename": "Error",
     "evalue": "cannot borrow `x` as mutable, as it is not declared as mutable",
     "output_type": "error",
     "traceback": [
      "clear(&mut x)",
      "\u001b[91m      ^^^^^^\u001b[0m \u001b[94mcannot borrow as mutable\u001b[0m",
      "cannot borrow `x` as mutable, as it is not declared as mutable",
      "\u001b[1mhelp\u001b[0m: consider changing this to be mutable\n\nmut x"
     ]
    }
   ],
   "source": [
    "clear(&mut x)"
   ]
  },
  {
   "cell_type": "code",
   "execution_count": 59,
   "metadata": {},
   "outputs": [],
   "source": [
    "let x=Box::<f32>::new(0.35);"
   ]
  },
  {
   "cell_type": "code",
   "execution_count": 57,
   "metadata": {},
   "outputs": [],
   "source": [
    "// println!(\"{}\",x);\n",
    "std::mem::drop(x);\n",
    "// println!(\"{}\",x);"
   ]
  },
  {
   "cell_type": "code",
   "execution_count": 65,
   "metadata": {},
   "outputs": [
    {
     "ename": "Error",
     "evalue": "this function takes 0 arguments but 1 argument was supplied",
     "output_type": "error",
     "traceback": [
      "x.into(z)",
      "\u001b[91m       ^\u001b[0m \u001b[94msupplied 1 argument\u001b[0m",
      "x.into(z)",
      "\u001b[91m  ^^^^\u001b[0m \u001b[94mexpected 0 arguments\u001b[0m",
      "this function takes 0 arguments but 1 argument was supplied"
     ]
    }
   ],
   "source": [
    "x.into(z)"
   ]
  },
  {
   "cell_type": "code",
   "execution_count": 64,
   "metadata": {},
   "outputs": [],
   "source": [
    "let mut  z: f32=0.2; "
   ]
  },
  {
   "cell_type": "code",
   "execution_count": 37,
   "metadata": {},
   "outputs": [
    {
     "name": "stdout",
     "output_type": "stream",
     "text": [
      "0.25\n",
      "y is 0.35\n",
      "0.35\n",
      "x is 0.25\n",
      "0.6\n",
      "0.6\n"
     ]
    }
   ],
   "source": [
    "let mut z: f32=0.0;\n",
    "{let mut x: f32= 0.25;\n",
    "println!(\"{}\",x);\n",
    "\n",
    "{let mut y=  x;\n",
    "    y=y+0.1_f32;\n",
    "        println!(\"y is {}\",y);\n",
    "\n",
    "// x=x+0.2;\n",
    " \n",
    "     z+=y;\n",
    "    println!(\"{}\",z);\n",
    "    };\n",
    "            println!(\"x is {}\",x);\n",
    "    z+=x;\n",
    "    println!(\"{}\",z);\n",
    "};\n",
    "    println!(\"{}\",z);"
   ]
  },
  {
   "cell_type": "code",
   "execution_count": 41,
   "metadata": {},
   "outputs": [],
   "source": [
    "struct EP {\n",
    "    YoungModulys: f32,\n",
    "        PoissonRatio: f32,\n",
    "}"
   ]
  },
  {
   "cell_type": "code",
   "execution_count": 47,
   "metadata": {},
   "outputs": [],
   "source": [
    "let mut BaseProp=EP {YoungModulys: 10000.,        PoissonRatio: 0.2};"
   ]
  },
  {
   "cell_type": "code",
   "execution_count": 53,
   "metadata": {},
   "outputs": [
    {
     "ename": "Error",
     "evalue": "`EP` doesn't implement `Debug`",
     "output_type": "error",
     "traceback": [
      "println!(\"{:?}\",BaseProp);",
      "\u001b[91m                ^^^^^^^^\u001b[0m \u001b[94m`EP` cannot be formatted using `{:?}`\u001b[0m",
      "`EP` doesn't implement `Debug`",
      "\u001b[1mhelp\u001b[0m: the trait `Debug` is not implemented for `EP`"
     ]
    }
   ],
   "source": [
    "println!(\"{:?}\",BaseProp);"
   ]
  },
  {
   "cell_type": "code",
   "execution_count": 55,
   "metadata": {},
   "outputs": [],
   "source": [
    "extern crate plotters;\n",
    "use plotters::prelude::*;\n",
    "fn main() -> Result<(), Box<dyn std::error::Error>> {\n",
    "    let root = BitMapBackend::new(\"plotters-doc-data/0.png\", (640, 480)).into_drawing_area();\n",
    "    root.fill(&WHITE)?;\n",
    "    let mut chart = ChartBuilder::on(&root)\n",
    "        .caption(\"y=x^2\", (\"Arial\", 50).into_font())\n",
    "        .margin(5)\n",
    "        .x_label_area_size(30)\n",
    "        .y_label_area_size(30)\n",
    "        .build_ranged(-1f32..1f32, -0.1f32..1f32)?;\n",
    "\n",
    "    chart.configure_mesh().draw()?;\n",
    "\n",
    "    chart\n",
    "        .draw_series(LineSeries::new(\n",
    "            (-50..=50).map(|x| x as f32 / 50.0).map(|x| (x, x * x)),\n",
    "            &RED,\n",
    "        ))?\n",
    "        .label(\"y = x^2\")\n",
    "        .legend(|(x, y)| Path::new(vec![(x, y), (x + 20, y)], &RED));\n",
    "\n",
    "    chart\n",
    "        .configure_series_labels()\n",
    "        .background_style(&WHITE.mix(0.8))\n",
    "        .border_style(&BLACK)\n",
    "        .draw()?;\n",
    "\n",
    "    Ok(())\n",
    "}"
   ]
  },
  {
   "cell_type": "code",
   "execution_count": 56,
   "metadata": {},
   "outputs": [
    {
     "ename": "Error",
     "evalue": "cannot find value `figure` in this scope",
     "output_type": "error",
     "traceback": [
      "figure",
      "\u001b[91m^^^^^^\u001b[0m \u001b[94mnot found in this scope\u001b[0m",
      "cannot find value `figure` in this scope"
     ]
    },
    {
     "ename": "Error",
     "evalue": "use of deprecated type alias `plotters::element::Path`: Use new name PathElement instead",
     "output_type": "error",
     "traceback": [
      "",
      "use of deprecated type alias `plotters::element::Path`: Use new name PathElement instead"
     ]
    },
    {
     "ename": "Error",
     "evalue": "use of deprecated associated function `plotters::chart::ChartBuilder::<'a, 'b, DB>::build_ranged`: `build_ranged` has been renamed to `build_cartesian_2d` and is to be removed in the future.",
     "output_type": "error",
     "traceback": [
      "",
      "use of deprecated associated function `plotters::chart::ChartBuilder::<'a, 'b, DB>::build_ranged`: `build_ranged` has been renamed to `build_cartesian_2d` and is to be removed in the future."
     ]
    }
   ],
   "source": [
    "figure"
   ]
  },
  {
   "cell_type": "code",
   "execution_count": 2,
   "metadata": {},
   "outputs": [],
   "source": [
    ":dep plotters = { git = \"https://github.com/38/plotters\", default_features = false, features = [\"evcxr\"] }\n",
    "extern crate plotters;\n",
    "use plotters::prelude::*;\n"
   ]
  },
  {
   "cell_type": "code",
   "execution_count": 3,
   "metadata": {},
   "outputs": [
    {
     "ename": "Error",
     "evalue": "failed to resolve: use of undeclared type `LineSeries`",
     "output_type": "error",
     "traceback": [
      "    chart.draw_series(LineSeries::new(",
      "\u001b[91m                      ^^^^^^^^^^\u001b[0m \u001b[94muse of undeclared type `LineSeries`\u001b[0m",
      "failed to resolve: use of undeclared type `LineSeries`"
     ]
    },
    {
     "ename": "Error",
     "evalue": "failed to resolve: use of undeclared type `Path`",
     "output_type": "error",
     "traceback": [
      "        .legend(|(x,y)| Path::new(vec![(x,y), (x + 20,y)], &RED));",
      "\u001b[91m                        ^^^^\u001b[0m \u001b[94mnot found in this scope\u001b[0m",
      "failed to resolve: use of undeclared type `Path`",
      "\u001b[1mhelp\u001b[0m: consider importing one of these items\n\nuse plotters::element::Path;"
     ]
    },
    {
     "ename": "Error",
     "evalue": "use of deprecated associated function `plotters::chart::ChartBuilder::<'a, 'b, DB>::build_ranged`: `build_ranged` has been renamed to `build_cartesian_2d` and is to be removed in the future.",
     "output_type": "error",
     "traceback": [
      "        .build_ranged(-1f32..1f32, -0.1f32..1f32)?;",
      "\u001b[91m         ^^^^^^^^^^^^\u001b[0m \u001b[94m\u001b[0m",
      "use of deprecated associated function `plotters::chart::ChartBuilder::<'a, 'b, DB>::build_ranged`: `build_ranged` has been renamed to `build_cartesian_2d` and is to be removed in the future."
     ]
    }
   ],
   "source": [
    "\n",
    "let figure = evcxr_figure((640, 480), |root| {\n",
    "    root.fill(&WHITE);\n",
    "    let mut chart = ChartBuilder::on(&root)\n",
    "        .caption(\"y=x^2\", (\"Arial\", 50).into_font())\n",
    "        .margin(5)\n",
    "        .x_label_area_size(30)\n",
    "        .y_label_area_size(30)\n",
    "        .build_ranged(-1f32..1f32, -0.1f32..1f32)?;\n",
    "\n",
    "    chart.configure_mesh().draw()?;\n",
    "\n",
    "    chart.draw_series(LineSeries::new(\n",
    "        (-50..=50).map(|x| x as f32 / 50.0).map(|x| (x, x * x)),\n",
    "        &RED,\n",
    "    )).unwrap()\n",
    "        .label(\"y = x^2\")\n",
    "        .legend(|(x,y)| Path::new(vec![(x,y), (x + 20,y)], &RED));\n",
    "\n",
    "    chart.configure_series_labels()\n",
    "        .background_style(&WHITE.mix(0.8))\n",
    "        .border_style(&BLACK)\n",
    "        .draw()?;\n",
    "    Ok(())\n",
    "});\n"
   ]
  },
  {
   "cell_type": "code",
   "execution_count": 60,
   "metadata": {},
   "outputs": [
    {
     "ename": "Error",
     "evalue": "cannot find value `ls` in this scope",
     "output_type": "error",
     "traceback": [
      "!ls",
      "\u001b[91m ^^\u001b[0m \u001b[94mnot found in this scope\u001b[0m",
      "cannot find value `ls` in this scope"
     ]
    }
   ],
   "source": [
    "Linspace(0.0,1.0,10)"
   ]
  },
  {
   "cell_type": "code",
   "execution_count": null,
   "metadata": {},
   "outputs": [],
   "source": []
  }
 ],
 "metadata": {
  "hide_input": false,
  "kernelspec": {
   "display_name": "Rust",
   "language": "rust",
   "name": "rust"
  },
  "language_info": {
   "codemirror_mode": "rust",
   "file_extension": ".rs",
   "mimetype": "text/rust",
   "name": "Rust",
   "pygment_lexer": "rust",
   "version": ""
  },
  "varInspector": {
   "cols": {
    "lenName": 16,
    "lenType": 16,
    "lenVar": 40
   },
   "kernels_config": {
    "python": {
     "delete_cmd_postfix": "",
     "delete_cmd_prefix": "del ",
     "library": "var_list.py",
     "varRefreshCmd": "print(var_dic_list())"
    },
    "r": {
     "delete_cmd_postfix": ") ",
     "delete_cmd_prefix": "rm(",
     "library": "var_list.r",
     "varRefreshCmd": "cat(var_dic_list()) "
    }
   },
   "types_to_exclude": [
    "module",
    "function",
    "builtin_function_or_method",
    "instance",
    "_Feature"
   ],
   "window_display": false
  }
 },
 "nbformat": 4,
 "nbformat_minor": 2
}
