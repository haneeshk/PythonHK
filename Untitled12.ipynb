{
 "cells": [
  {
   "cell_type": "code",
   "execution_count": 4,
   "metadata": {},
   "outputs": [],
   "source": [
    " extern crate ndarray;"
   ]
  },
  {
   "cell_type": "code",
   "execution_count": 6,
   "metadata": {},
   "outputs": [
    {
     "ename": "Error",
     "evalue": "generic arguments in macro path",
     "output_type": "error",
     "traceback": [
      "let x=ndarray::<f32>::arr2!([[1,2],[3,4]]);",
      "\u001b[91m               ^^^^^\u001b[0m \u001b[94m\u001b[0m",
      "generic arguments in macro path"
     ]
    },
    {
     "ename": "Error",
     "evalue": "failed to resolve: could not find `arr2` in `ndarray`",
     "output_type": "error",
     "traceback": [
      "let x=ndarray::<f32>::arr2!([[1,2],[3,4]]);",
      "\u001b[91m                      ^^^^\u001b[0m \u001b[94mcould not find `arr2` in `ndarray`\u001b[0m",
      "failed to resolve: could not find `arr2` in `ndarray`"
     ]
    }
   ],
   "source": [
    "let x=ndarray::prelude::A"
   ]
  },
  {
   "cell_type": "code",
   "execution_count": null,
   "metadata": {},
   "outputs": [],
   "source": []
  }
 ],
 "metadata": {
  "hide_input": false,
  "kernelspec": {
   "display_name": "Rust",
   "language": "rust",
   "name": "rust"
  },
  "language_info": {
   "codemirror_mode": "rust",
   "file_extension": ".rs",
   "mimetype": "text/rust",
   "name": "Rust",
   "pygment_lexer": "rust",
   "version": ""
  },
  "varInspector": {
   "cols": {
    "lenName": 16,
    "lenType": 16,
    "lenVar": 40
   },
   "kernels_config": {
    "python": {
     "delete_cmd_postfix": "",
     "delete_cmd_prefix": "del ",
     "library": "var_list.py",
     "varRefreshCmd": "print(var_dic_list())"
    },
    "r": {
     "delete_cmd_postfix": ") ",
     "delete_cmd_prefix": "rm(",
     "library": "var_list.r",
     "varRefreshCmd": "cat(var_dic_list()) "
    }
   },
   "types_to_exclude": [
    "module",
    "function",
    "builtin_function_or_method",
    "instance",
    "_Feature"
   ],
   "window_display": false
  }
 },
 "nbformat": 4,
 "nbformat_minor": 2
}
