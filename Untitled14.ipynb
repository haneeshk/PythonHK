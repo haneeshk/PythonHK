{
 "cells": [
  {
   "cell_type": "code",
   "execution_count": 1,
   "metadata": {},
   "outputs": [],
   "source": [
    "#pragma cling add_include_path(\"/usr/local/Cellar/range-v3/0.10.0/include/\")\n",
    "#include<iostream>\n",
    "#include<vector>\n",
    "#include<functional>\n",
    "#include<algorithm>\n",
    "#include<typeinfo>\n",
    "#include<cmath>\n",
    "#include <cassert>\n",
    "#include <range/v3/all.hpp>\n"
   ]
  },
  {
   "cell_type": "code",
   "execution_count": 2,
   "metadata": {},
   "outputs": [],
   "source": [
    "std::vector<double> v(10);"
   ]
  },
  {
   "cell_type": "code",
   "execution_count": 3,
   "metadata": {},
   "outputs": [
    {
     "name": "stdout",
     "output_type": "stream",
     "text": [
      "[0,0,0,0,0,0,0,0,0,0]"
     ]
    }
   ],
   "source": [
    "\n",
    "std::cout<<ranges::views::all(v);\n"
   ]
  },
  {
   "cell_type": "code",
   "execution_count": 4,
   "metadata": {},
   "outputs": [
    {
     "name": "stderr",
     "output_type": "stream",
     "text": [
      "\u001b[1minput_line_12:1:151: \u001b[0m\u001b[0;1;31merror: \u001b[0m\u001b[1muse of undeclared identifier 'lambda'; did you mean 'meta::lambda'?\u001b[0m\n",
      "extern \"C\" void __cling_Destruct_0x7fe1604f83d0(void* obj){((ranges::transform_view<ranges::ref_view<std::vector<double, std::allocator<double> > >, (lambda)>*)obj)->~transform_view();}\n",
      "\u001b[0;1;32m                                                                                                                                                      ^~~~~~\n",
      "\u001b[0m\u001b[0;32m                                                                                                                                                      meta::lambda\n",
      "\u001b[0m\u001b[1m/usr/local/Cellar/range-v3/0.10.0/include/meta/meta.hpp:3561:5: \u001b[0m\u001b[0;1;30mnote: \u001b[0m'meta::lambda' declared here\u001b[0m\n",
      "    using lambda = if_c<(sizeof...(Ts) > 0), detail::lambda_<list<Ts...>>>;\n",
      "\u001b[0;1;32m    ^\n",
      "\u001b[0m\u001b[1minput_line_12:1:151: \u001b[0m\u001b[0;1;31merror: \u001b[0m\u001b[1munknown type name 'lambda'\u001b[0m\n",
      "extern \"C\" void __cling_Destruct_0x7fe1604f83d0(void* obj){((ranges::transform_view<ranges::ref_view<std::vector<double, std::allocator<double> > >, (lambda)>*)obj)->~transform_view();}\n",
      "\u001b[0;1;32m                                                                                                                                                      ^\n",
      "\u001b[0m\u001b[1minput_line_12:1:159: \u001b[0m\u001b[0;1;31merror: \u001b[0m\u001b[1mtype name requires a specifier or qualifier\u001b[0m\n",
      "extern \"C\" void __cling_Destruct_0x7fe1604f83d0(void* obj){((ranges::transform_view<ranges::ref_view<std::vector<double, std::allocator<double> > >, (lambda)>*)obj)->~transform_view();}\n",
      "\u001b[0;1;32m                                                                                                                                                              ^\n",
      "\u001b[0m\u001b[1minput_line_12:1:168: \u001b[0m\u001b[0;1;31merror: \u001b[0m\u001b[1mexpected the class name after '~' to name a destructor\u001b[0m\n",
      "extern \"C\" void __cling_Destruct_0x7fe1604f83d0(void* obj){((ranges::transform_view<ranges::ref_view<std::vector<double, std::allocator<double> > >, (lambda)>*)obj)->~transform_view();}\n",
      "\u001b[0;1;32m                                                                                                                                                                       ^\n",
      "\u001b[0m\u001b[1minput_line_14:2:112: \u001b[0m\u001b[0;1;31merror: \u001b[0m\u001b[1muse of undeclared identifier 'lambda'; did you mean 'meta::lambda'?\u001b[0m\n",
      " mime_bundle_repr(*(*(ranges::transform_view<ranges::ref_view<std::vector<double, std::allocator<double> > >, (lambda)>**)0x7ffee4339990));\n",
      "\u001b[0;1;32m                                                                                                               ^~~~~~\n",
      "\u001b[0m\u001b[0;32m                                                                                                               meta::lambda\n",
      "\u001b[0m\u001b[1m/usr/local/Cellar/range-v3/0.10.0/include/meta/meta.hpp:3561:5: \u001b[0m\u001b[0;1;30mnote: \u001b[0m'meta::lambda' declared here\u001b[0m\n",
      "    using lambda = if_c<(sizeof...(Ts) > 0), detail::lambda_<list<Ts...>>>;\n",
      "\u001b[0;1;32m    ^\n",
      "\u001b[0m\u001b[1minput_line_14:2:112: \u001b[0m\u001b[0;1;31merror: \u001b[0m\u001b[1munknown type name 'lambda'\u001b[0m\n",
      " mime_bundle_repr(*(*(ranges::transform_view<ranges::ref_view<std::vector<double, std::allocator<double> > >, (lambda)>**)0x7ffee4339990));\n",
      "\u001b[0;1;32m                                                                                                               ^\n",
      "\u001b[0m\u001b[1minput_line_14:2:120: \u001b[0m\u001b[0;1;31merror: \u001b[0m\u001b[1mtype name requires a specifier or qualifier\u001b[0m\n",
      " mime_bundle_repr(*(*(ranges::transform_view<ranges::ref_view<std::vector<double, std::allocator<double> > >, (lambda)>**)0x7ffee4339990));\n",
      "\u001b[0;1;32m                                                                                                                       ^\n",
      "\u001b[0m"
     ]
    },
    {
     "data": {},
     "execution_count": 4,
     "metadata": {},
     "output_type": "execute_result"
    }
   ],
   "source": [
    "v | ranges::views::transform([](do x){return x+0.2;})"
   ]
  },
  {
   "cell_type": "code",
   "execution_count": null,
   "metadata": {},
   "outputs": [],
   "source": []
  }
 ],
 "metadata": {
  "hide_input": false,
  "kernelspec": {
   "display_name": "C++17",
   "language": "C++",
   "name": "xcpp17"
  },
  "language_info": {
   "codemirror_mode": "text/x-c++src",
   "file_extension": ".cpp",
   "mimetype": "text/x-c++src",
   "name": "c++",
   "version": "-std=c++17"
  },
  "varInspector": {
   "cols": {
    "lenName": 16,
    "lenType": 16,
    "lenVar": 40
   },
   "kernels_config": {
    "python": {
     "delete_cmd_postfix": "",
     "delete_cmd_prefix": "del ",
     "library": "var_list.py",
     "varRefreshCmd": "print(var_dic_list())"
    },
    "r": {
     "delete_cmd_postfix": ") ",
     "delete_cmd_prefix": "rm(",
     "library": "var_list.r",
     "varRefreshCmd": "cat(var_dic_list()) "
    }
   },
   "types_to_exclude": [
    "module",
    "function",
    "builtin_function_or_method",
    "instance",
    "_Feature"
   ],
   "window_display": false
  }
 },
 "nbformat": 4,
 "nbformat_minor": 2
}
