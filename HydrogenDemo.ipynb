{
 "cells": [
  {
   "cell_type": "code",
   "execution_count": 1,
   "metadata": {},
   "outputs": [],
   "source": [
    "# %% markdown\n",
    "### Hello"
   ]
  },
  {
   "cell_type": "code",
   "execution_count": 5,
   "metadata": {},
   "outputs": [
    {
     "ename": "TypeError",
     "evalue": "'str' object is not callable",
     "output_type": "error",
     "traceback": [
      "\u001b[0;31m---------------------------------------------------------------------------\u001b[0m",
      "\u001b[0;31mTypeError\u001b[0m                                 Traceback (most recent call last)",
      "\u001b[0;32m<ipython-input-5-7f047f7b977b>\u001b[0m in \u001b[0;36m<module>\u001b[0;34m\u001b[0m\n\u001b[1;32m      1\u001b[0m \u001b[0;31m# %% codecell\u001b[0m\u001b[0;34m\u001b[0m\u001b[0;34m\u001b[0m\u001b[0;34m\u001b[0m\u001b[0m\n\u001b[1;32m      2\u001b[0m \u001b[0;32mimport\u001b[0m \u001b[0mos\u001b[0m\u001b[0;34m\u001b[0m\u001b[0;34m\u001b[0m\u001b[0m\n\u001b[0;32m----> 3\u001b[0;31m \u001b[0mos\u001b[0m\u001b[0;34m.\u001b[0m\u001b[0mpardir\u001b[0m\u001b[0;34m(\u001b[0m\u001b[0;34m)\u001b[0m\u001b[0;34m\u001b[0m\u001b[0;34m\u001b[0m\u001b[0m\n\u001b[0m",
      "\u001b[0;31mTypeError\u001b[0m: 'str' object is not callable"
     ]
    }
   ],
   "source": [
    "# %% codecell\n",
    "import os\n"
   ]
  },
  {
   "cell_type": "code",
   "execution_count": 7,
   "metadata": {},
   "outputs": [],
   "source": [
    "# %% codecell\n",
    "# %%timeit\n",
    "list-at-range(50000)\n",
    "for i in list-at-range(10):\n",
    "    sin*ov*cos-at-(i*pi/2)"
   ]
  },
  {
   "cell_type": "markdown",
   "metadata": {},
   "source": [
    "The idea is that $\\btusf{x}$"
   ]
  },
  {
   "cell_type": "markdown",
   "metadata": {},
   "source": [
    "sin*ov*cos-at-(pi/2)"
   ]
  },
  {
   "cell_type": "code",
   "execution_count": null,
   "metadata": {},
   "outputs": [],
   "source": [
    "# %% markdown\n",
    "$$\n",
    "\\newcommand{\\forcemag}{f}\n",
    "\\newcommand{\\physF}{\\boldsymbol{\\mathfrak{f}}}\n",
    "\\newcommand{\\physB}{\\mathscr{b}} % Width of the thin film\n",
    "\\newcommand{\\physE}{{\\mathpzc{E}}} % Young's modulus of the thin film\n",
    "\\newcommand{\\physh}{\\mathscr{h}} % Thickness of the thin film.\n",
    "\\newcommand{\\physe}{\\mathbscr{e}} % Thickness of the thin film.\n",
    "\\newcommand{\\physf}{\\boldsymbol{\\mathfrak{f}}} % Thickness of the thin film.\n",
    "\\newcommand{\\physm}{\\mathscr{m}}\n",
    "\\newcommand{\\physu}{\\mathbscr{u}}\n",
    "\\newcommand{\\physw}{\\mathscr{w}}\n",
    "\\newcommand{\\rtple}[1]{\\boldsymbol{#1}}\n",
    "\\renewcommand{\\u}[1]{\\boldsymbol{#1}}\n",
    "\\newcommand{\\OriginRefEucldPtSpace}{O_{\\mathrm{ R}}}\n",
    "\\newcommand{\\MapManifoldToRefEucldPtSpace}{\\kappa_{\\mathrm{ R}}}\n",
    "\\renewcommand{\\t}[1]{\\tilde{#1}}\n",
    "\\renewcommand{\\b}[1]{\\mathbb{#1}}\n",
    "\\renewcommand{\\c}[1]{\\mathcal{#1}}\n",
    "\\newcommand{\\lsc}[2][\\mathscr{l}]{{}^{ #1 }\\! #2}\n",
    "\\newcommand{\\lscH}[1]{\\lsc[H]{#1}}\n",
    "\\newcommand{\\dsf}[1]{\\Delta\\boldsymbol{\\sf #1}}\n",
    "\\newcommand{\\tpsb}[1]{\\left. #1 \\right.^{\\sf T}}\n",
    "\\newcommand{\\tps}[1]{\\left( #1 \\right)^{\\sf T}}\n",
    "\\newcommand{\\usf}[1]{\\u{\\sf #1}}\n",
    "\\newcommand{\\busf}[1]{\\bar{\\usf{ #1}}}\n",
    "\\newcommand{\\tu}[1]{\\tilde{\\u{ #1}}}\n",
    "\\newcommand{\\tusf}[1]{\\tilde{\\usf{ #1}}}\n",
    "\\newcommand{\\btusf}[1]{\\bar{\\tusf{ #1}}}\n",
    "\\newcommand{\\pr}[1]{\\left( #1 \\right)}\n",
    "\\newcommand{\\D}[1]{D\\hspace{-.1em}#1}\n",
    "\\newcommand{\\Dr}{D\\hspace{-.1em}\\varrho}\n",
    "\\newcommand{\\Drp}{\\Dr^{+}}\n",
    "\\newcommand{\\Drm}{\\Dr^{-}}\n",
    "\\newcommand{\\Dro}{\\dot{\\rho}}\n",
    "\\newcommand{\\DDro}{\\ddot{\\rho}}\n",
    "\\newcommand{\\Df}{\\dot{f}}\n",
    "\\newcommand{\\DDf}{\\ddot{f}}\n",
    "\\newcommand{\\Drop}{\\Dro^{+}}\n",
    "\\newcommand{\\Drom}{\\Dro^{-}}\n",
    "\\newcommand{\\Dl}{\\dot{l}}\n",
    "\\newcommand{\\Da}{\\dot{a}}\n",
    "\\newcommand{\\DDl}{\\ddot{l}}\n",
    "\\newcommand{\\DF}{\\dot{F}}\n",
    "\\newcommand{\\DDF}{\\ddot{F}}\n",
    "\\newcommand{\\Dlp}{\\Dl^{+}}\n",
    "\\newcommand{\\Dlm}{\\Dl^{-}}\n",
    "\\newcommand{\\Dam}{\\Da^{-}}\n",
    "\\newcommand{\\Deq}{\\mathcal{D}^{\\circ}}\n",
    "\\newcommand{\\Dst}{\\mathcal{D}^{\\stable}}\n",
    "\\newcommand{\\Dnt}{\\mathcal{D}^{\\odot}}\n",
    "\\newcommand{\\Dunst}{\\mathcal{D}^{\\otimes}}\n",
    "\\newcommand{\\conf}{\\boldsymbol{\\kappa}}\n",
    "\\newcommand{\\confp}{\\tilde{\\boldsymbol{\\kappa}}}$$\n",
    "\n",
    "# %% markdown\n",
    "\n",
    "\n",
    "$\n",
    "\\epsilon_{\\rm max}= \\{ \\epsilon{\\usf{x}}~|~x\\in \\mathcal{B}\\}\n",
    "$\n",
    "# %% codecell\n",
    "sin(pi)-to*at*print\n",
    "# %% codecell\n",
    "sin*at*[0,pi/4,pi/2]-to*at*print;\n",
    "# %% codecell"
   ]
  }
 ],
 "metadata": {
  "anaconda-cloud": {},
  "hide_input": false,
  "kernelspec": {
   "display_name": "Python 3",
   "language": "python",
   "name": "python3"
  },
  "language_info": {
   "codemirror_mode": {
    "name": "ipython",
    "version": 3
   },
   "file_extension": ".py",
   "mimetype": "text/x-python",
   "name": "python",
   "nbconvert_exporter": "python",
   "pygments_lexer": "ipython3",
   "version": "3.7.4"
  },
  "varInspector": {
   "cols": {
    "lenName": 16,
    "lenType": 16,
    "lenVar": 40
   },
   "kernels_config": {
    "python": {
     "delete_cmd_postfix": "",
     "delete_cmd_prefix": "del ",
     "library": "var_list.py",
     "varRefreshCmd": "print(var_dic_list())"
    },
    "r": {
     "delete_cmd_postfix": ") ",
     "delete_cmd_prefix": "rm(",
     "library": "var_list.r",
     "varRefreshCmd": "cat(var_dic_list()) "
    }
   },
   "types_to_exclude": [
    "module",
    "function",
    "builtin_function_or_method",
    "instance",
    "_Feature"
   ],
   "window_display": false
  }
 },
 "nbformat": 4,
 "nbformat_minor": 1
}
