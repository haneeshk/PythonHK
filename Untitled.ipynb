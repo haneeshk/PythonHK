{
 "cells": [
  {
   "cell_type": "markdown",
   "metadata": {},
   "source": [
    "##\n",
    "\n",
    "[Start Up script](file://Users/haneeshkesari/.ipython/profile_default/startup/00_stratup.py)"
   ]
  },
  {
   "cell_type": "code",
   "execution_count": null,
   "metadata": {},
   "outputs": [],
   "source": [
    "%%latex \n",
    "\n",
    "$$\\newcommand{\\u}[1]{\\boldsymbol{#1}}$$\n",
    "    \n",
    "    \n",
    "$\\u{x}$    \n",
    "    \n",
    "\\begin{equation}\n",
    "x=2\n",
    "\\end{equation}"
   ]
  },
  {
   "cell_type": "raw",
   "metadata": {},
   "source": [
    "%%latex \n",
    "\n",
    "$\\u{x}$"
   ]
  },
  {
   "cell_type": "code",
   "execution_count": 2,
   "metadata": {},
   "outputs": [
    {
     "ename": "SyntaxError",
     "evalue": "EOL while scanning string literal (<ipython-input-2-9783cc49f2cb>, line 1)",
     "output_type": "error",
     "traceback": [
      "\u001b[0;36m  File \u001b[0;32m\"<ipython-input-2-9783cc49f2cb>\"\u001b[0;36m, line \u001b[0;32m1\u001b[0m\n\u001b[0;31m    get_ipython().run_cell_magic('latex', '','\\n$$\\\\newcommand{\\\\u}[1]{\\\\boldsymbol{#1}}$$\\n$$\\newcommand{\\forcemag}{f}$$\\n\\n$$\\newcommand{\\physF}{\\boldsymbol{\\mathfrak{f}}} %$$\\n\\n$$\\newcommand{\\physB}{\\mathscr{b}} % Width of the thin film$$\\n\\n$$\\newcommand{\\physE}{{\\mathpzc{E}}}$$\\n\\n$$\\newcommand{\\physh}{\\mathscr{h}}$$\\n\\n$$\\newcommand{\\physe}{\\mathbscr{e}}$$\\n\\n$$\\newcommand{\\physf}{\\boldsymbol{\\mathfrak{f}}}$$\\n\\n$$\\newcommand{\\physm}{\\mathscr{m}} %$$\\n\\n$$\\newcommand{\\physu}{\\mathbscr{u}}$$\\n\\n$$\\newcommand{\\physw}{\\mathscr{w}}$$\\n\\n$$\\newcommand{\\rtple}[1]{\\boldsymbol{#1}}$$\\n\\renewcommand{\\u}[1]{\\boldsymbol{#1}}\u001b[0m\n\u001b[0m                                                                                                                                                                                                                                                                                                                                                                                                                                                                                                                                                                                                                                                    ^\u001b[0m\n\u001b[0;31mSyntaxError\u001b[0m\u001b[0;31m:\u001b[0m EOL while scanning string literal\n"
     ]
    }
   ],
   "source": [
    "get_ipython().run_cell_magic('latex', '','\\n$$\\\\newcommand{\\\\u}[1]{\\\\boldsymbol{#1}}$$\\n$$\\newcommand{\\forcemag}{f}$$\\n\\n$$\\newcommand{\\physF}{\\boldsymbol{\\mathfrak{f}}} %$$\\n\\n$$\\newcommand{\\physB}{\\mathscr{b}} % Width of the thin film$$\\n\\n$$\\newcommand{\\physE}{{\\mathpzc{E}}}$$\\n\\n$$\\newcommand{\\physh}{\\mathscr{h}}$$\\n\\n$$\\newcommand{\\physe}{\\mathbscr{e}}$$\\n\\n$$\\newcommand{\\physf}{\\boldsymbol{\\mathfrak{f}}}$$\\n\\n$$\\newcommand{\\physm}{\\mathscr{m}} %$$\\n\\n$$\\newcommand{\\physu}{\\mathbscr{u}}$$\\n\\n$$\\newcommand{\\physw}{\\mathscr{w}}$$\\n\\n$$\\newcommand{\\rtple}[1]{\\boldsymbol{#1}}$$\\n\\renewcommand{\\u}[1]{\\boldsymbol{#1}}\n",
    "\\n$$\\newcommand{\\OriginRefEucldPtSpace}{O_{\\mathrm{ R}}}$$\\n\\n$$\\newcommand{\\MapManifoldToRefEucldPtSpace}{\\kappa_{\\mathrm{ R}}}$$\\n\\renewcommand{\\t}[1]{\\tilde{#1}}\n",
    "\\renewcommand{\\b}[1]{\\mathbb{#1}}\n",
    "\\renewcommand{\\c}[1]{\\mathcal{#1}}\n",
    "\\n$$\\newcommand{\\lsc}[2][\\mathscr{l}]{{}^{ #1 }\\! #2}$$\\n\\n$$\\newcommand{\\lscH}[1]{\\lsc[H]{#1}}$$\\n\\n$$\\newcommand{\\dsf}[1]{\\Delta\\boldsymbol{\\sf #1}}$$\\n\\n$$\\newcommand{\\tpsb}[1]{\\left. #1 \\right.^{\\sf T}}$$\\n\\n$$\\newcommand{\\tps}[1]{\\left( #1 \\right)^{\\sf T}}$$\\n\\n$$\\newcommand{\\usf}[1]{\\u{\\sf #1}}$$\\n\\n$$\\newcommand{\\busf}[1]{\\bar{\\usf{ #1}}}$$\\n\\n$$\\newcommand{\\tu}[1]{\\tilde{\\u{ #1}}}$$\\n\\n$$\\newcommand{\\tusf}[1]{\\tilde{\\usf{ #1}}}$$\\n\\n$$\\newcommand{\\btusf}[1]{\\bar{\\tusf{ #1}}}$$\\n\\n$$\\newcommand{\\pr}[1]{\\left( #1 \\right)}$$\\n\\n$$\\newcommand*{\\subfigurewdith}{0.8\\textwidth}$$\\n\\n$$\\newcommand{\\D}[1]{D\\hspace{-.1em}#1}$$\\n\\n$$\\newcommand{\\Dr}{D\\hspace{-.1em}\\varrho}$$\\n\\n$$\\newcommand{\\Drp}{\\Dr^{+}}$$\\n\\n$$\\newcommand{\\Drm}{\\Dr^{-}}$$\\n\\n$$\\newcommand{\\Dro}{\\dot{\\rho}}$$\\n\\n$$\\newcommand{\\DDro}{\\ddot{\\rho}}$$\\n\\n$$\\newcommand{\\Df}{\\dot{f}}$$\\n\\n$$\\newcommand{\\DDf}{\\ddot{f}}$$\\n\\n$$\\newcommand{\\Drop}{\\Dro^{+}}$$\\n\\n$$\\newcommand{\\Drom}{\\Dro^{-}}$$\\n\\n$$\\newcommand{\\Dl}{\\dot{l}}$$\\n\\n$$\\newcommand{\\Da}{\\dot{a}}$$\\n\\n$$\\newcommand{\\DDl}{\\ddot{l}}$$\\n\\n$$\\newcommand{\\DF}{\\dot{F}}$$\\n\\n$$\\newcommand{\\DDF}{\\ddot{F}}$$\\n\\n$$\\newcommand{\\Dlp}{\\Dl^{+}}$$\\n\\n$$\\newcommand{\\Dlm}{\\Dl^{-}}$$\\n\\n$$\\newcommand{\\Dam}{\\Da^{-}}$$\\n\\n$$\\newcommand{\\Deq}{\\mathcal{D}^{\\circ}}$$\\n\\n$$\\newcommand{\\Dst}{\\mathcal{D}^{\\stable}}$$\\n\\n$$\\newcommand{\\Dnt}{\\mathcal{D}^{\\odot}}$$\\n\\n$$\\newcommand{\\Dunst}{\\mathcal{D}^{\\otimes}}$$\\n\\n$$\\newcommand{\\conf}{\\boldsymbol{\\kappa}}$$\\n\\n$$\\newcommand{\\confp}{\\tilde{\\boldsymbol{\\kappa}}}$$\\n')"
   ]
  },
  {
   "cell_type": "code",
   "execution_count": null,
   "metadata": {},
   "outputs": [],
   "source": [
    "%%latex \n",
    "\n",
    "$\\u{x}$\n"
   ]
  }
 ],
 "metadata": {
  "kernelspec": {
   "display_name": "Python 3",
   "language": "python",
   "name": "python3"
  },
  "language_info": {
   "codemirror_mode": {
    "name": "ipython",
    "version": 3
   },
   "file_extension": ".py",
   "mimetype": "text/x-python",
   "name": "python",
   "nbconvert_exporter": "python",
   "pygments_lexer": "ipython3",
   "version": "3.7.4"
  }
 },
 "nbformat": 4,
 "nbformat_minor": 4
}
