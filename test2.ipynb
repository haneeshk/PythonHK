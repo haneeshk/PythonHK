{
  "cells": [
    {
      "cell_type": "markdown",
      "source": [
        "\n",
        "$$\n",
        "\\renewcommand{\\u}[1]{\\boldsymbol{#1}}\n",
        "\\newcommand{\\tpsb}[1]{\\left. #1 \\right.^{\\sf T}}\n",
        "\\newcommand{\\tps}[1]{\\left( #1 \\right)^{\\sf T}}\n",
        "\\newcommand{\\usf}[1]{\\u{\\sf #1}}\n",
        "\\newcommand{\\busf}[1]{\\bar{\\usf{ #1}}}\n",
        "\\newcommand{\\tu}[1]{\\tilde{\\u{ #1}}}\n",
        "\\newcommand{\\tusf}[1]{\\tilde{\\usf{ #1}}}\n",
        "\\newcommand{\\btusf}[1]{\\bar{\\tusf{ #1}}}\n",
        "\\newcommand{\\pr}[1]{\\left( #1 \\right)}\n",
        "\\newcommand{\\D}[1]{D\\hspace{-.1em}#1}\n",
        "\\newcommand{\\Dr}{D\\hspace{-.1em}\\varrho}\n",
        "\\newcommand{\\Drp}{\\Dr^{+}}\n",
        "\\newcommand{\\Drm}{\\Dr^{-}}\n",
        "\\newcommand{\\Dro}{\\dot{\\rho}}\n",
        "\\newcommand{\\DDro}{\\ddot{\\rho}}\n",
        "\\newcommand{\\Df}{\\dot{f}}\n",
        "\\newcommand{\\DDf}{\\ddot{f}}\n",
        "\\newcommand{\\Drop}{\\Dro^{+}}\n",
        "\\newcommand{\\Drom}{\\Dro^{-}}\n",
        "$$\n",
        "\n",
        "\n",
        "This is \\$\\u{x}^2$. It looks really pretty. $^j\\!\\xi_k$.\n",
        "However, $\\usf{x}^2$.\n",
        "\n",
        "\n",
        "\n",
        "\n"
      ],
      "metadata": {
        "nteract": {
          "transient": {
            "deleting": false
          }
        }
      }
    },
    {
      "cell_type": "code",
      "source": [
        "%%latex\n",
        "\n",
        "$$\\newcommand{\\u}[1]{\\boldsymbol{#1}}$$\n",
        "\n",
        "\n",
        "$\\u{x}$\n",
        "\n",
        "\n",
        "\n",
        "\n",
        "\\begin{equation}\n",
        "x=2\n",
        "\\end{equation}"
      ],
      "outputs": [],
      "execution_count": null,
      "metadata": {
        "collapsed": false,
        "jupyter": {
          "source_hidden": false,
          "outputs_hidden": false
        },
        "nteract": {
          "transient": {
            "deleting": false
          }
        }
      }
    },
    {
      "cell_type": "code",
      "source": [
        "%%latex\n",
        "\n",
        "$\\u{x}$"
      ],
      "outputs": [],
      "execution_count": null,
      "metadata": {
        "collapsed": false,
        "jupyter": {
          "source_hidden": false,
          "outputs_hidden": false
        },
        "nteract": {
          "transient": {
            "deleting": false
          }
        }
      }
    },
    {
      "cell_type": "code",
      "source": [
        "get_ipython().run_cell_magic('latex', '','\\n$$\\\\newcommand{\\\\u}[1]{\\\\boldsymbol{#1}}$$\\n$$\\newcommand{\\forcemag}{f}$$\\n\\n$$\\newcommand{\\physF}{\\boldsymbol{\\mathfrak{f}}} %$$\\n\\n$$\\newcommand{\\physB}{\\mathscr{b}} % Width of the thin film$$\\n\\n$$\\newcommand{\\physE}{{\\mathpzc{E}}}$$\\n\\n$$\\newcommand{\\physh}{\\mathscr{h}}$$\\n\\n$$\\newcommand{\\physe}{\\mathbscr{e}}$$\\n\\n$$\\newcommand{\\physf}{\\boldsymbol{\\mathfrak{f}}}$$\\n\\n$$\\newcommand{\\physm}{\\mathscr{m}} %$$\\n\\n$$\\newcommand{\\physu}{\\mathbscr{u}}$$\\n\\n$$\\newcommand{\\physw}{\\mathscr{w}}$$\\n\\n$$\\newcommand{\\rtple}[1]{\\boldsymbol{#1}}$$\\n\\renewcommand{\\u}[1]{\\boldsymbol{#1}}\n",
        "\\n$$\\newcommand{\\OriginRefEucldPtSpace}{O_{\\mathrm{ R}}}$$\\n\\n$$\\newcommand{\\MapManifoldToRefEucldPtSpace}{\\kappa_{\\mathrm{ R}}}$$\\n\\renewcommand{\\t}[1]{\\tilde{#1}}\n",
        "\\renewcommand{\\b}[1]{\\mathbb{#1}}\n",
        "\\renewcommand{\\c}[1]{\\mathcal{#1}}\n",
        "\\n$$\\newcommand{\\lsc}[2][\\mathscr{l}]{{}^{ #1 }\\! #2}$$\\n\\n$$\\newcommand{\\lscH}[1]{\\lsc[H]{#1}}$$\\n\\n$$\\newcommand{\\dsf}[1]{\\Delta\\boldsymbol{\\sf #1}}$$\\n\\n$$\\newcommand{\\tpsb}[1]{\\left. #1 \\right.^{\\sf T}}$$\\n\\n$$\\newcommand{\\tps}[1]{\\left( #1 \\right)^{\\sf T}}$$\\n\\n$$\\newcommand{\\usf}[1]{\\u{\\sf #1}}$$\\n\\n$$\\newcommand{\\busf}[1]{\\bar{\\usf{ #1}}}$$\\n\\n$$\\newcommand{\\tu}[1]{\\tilde{\\u{ #1}}}$$\\n\\n$$\\newcommand{\\tusf}[1]{\\tilde{\\usf{ #1}}}$$\\n\\n$$\\newcommand{\\btusf}[1]{\\bar{\\tusf{ #1}}}$$\\n\\n$$\\newcommand{\\pr}[1]{\\left( #1 \\right)}$$\\n\\n$$\\newcommand*{\\subfigurewdith}{0.8\\textwidth}$$\\n\\n$$\\newcommand{\\D}[1]{D\\hspace{-.1em}#1}$$\\n\\n$$\\newcommand{\\Dr}{D\\hspace{-.1em}\\varrho}$$\\n\\n$$\\newcommand{\\Drp}{\\Dr^{+}}$$\\n\\n$$\\newcommand{\\Drm}{\\Dr^{-}}$$\\n\\n$$\\newcommand{\\Dro}{\\dot{\\rho}}$$\\n\\n$$\\newcommand{\\DDro}{\\ddot{\\rho}}$$\\n\\n$$\\newcommand{\\Df}{\\dot{f}}$$\\n\\n$$\\newcommand{\\DDf}{\\ddot{f}}$$\\n\\n$$\\newcommand{\\Drop}{\\Dro^{+}}$$\\n\\n$$\\newcommand{\\Drom}{\\Dro^{-}}$$\\n\\n$$\\newcommand{\\Dl}{\\dot{l}}$$\\n\\n$$\\newcommand{\\Da}{\\dot{a}}$$\\n\\n$$\\newcommand{\\DDl}{\\ddot{l}}$$\\n\\n$$\\newcommand{\\DF}{\\dot{F}}$$\\n\\n$$\\newcommand{\\DDF}{\\ddot{F}}$$\\n\\n$$\\newcommand{\\Dlp}{\\Dl^{+}}$$\\n\\n$$\\newcommand{\\Dlm}{\\Dl^{-}}$$\\n\\n$$\\newcommand{\\Dam}{\\Da^{-}}$$\\n\\n$$\\newcommand{\\Deq}{\\mathcal{D}^{\\circ}}$$\\n\\n$$\\newcommand{\\Dst}{\\mathcal{D}^{\\stable}}$$\\n\\n$$\\newcommand{\\Dnt}{\\mathcal{D}^{\\odot}}$$\\n\\n$$\\newcommand{\\Dunst}{\\mathcal{D}^{\\otimes}}$$\\n\\n$$\\newcommand{\\conf}{\\boldsymbol{\\kappa}}$$\\n\\n$$\\newcommand{\\confp}{\\tilde{\\boldsymbol{\\kappa}}}$$\\n')"
      ],
      "outputs": [],
      "execution_count": null,
      "metadata": {
        "collapsed": false,
        "jupyter": {
          "source_hidden": false,
          "outputs_hidden": false
        },
        "nteract": {
          "transient": {
            "deleting": false
          }
        }
      }
    },
    {
      "cell_type": "code",
      "source": [
        "%%latex\n",
        "\n",
        "$\\u{x}$"
      ],
      "outputs": [],
      "execution_count": null,
      "metadata": {
        "collapsed": false,
        "jupyter": {
          "source_hidden": false,
          "outputs_hidden": false
        },
        "nteract": {
          "transient": {
            "deleting": false
          }
        }
      }
    }
  ],
  "metadata": {
    "kernelspec": {
      "argv": [
        "/usr/local/opt/python/bin/python3.7",
        "-m",
        "ipykernel_launcher",
        "-f",
        "{connection_file}"
      ],
      "display_name": "Python 3",
      "language": "python",
      "name": "python3"
    }
  },
  "nbformat": 4,
  "nbformat_minor": 0
}