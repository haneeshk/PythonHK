{
 "cells": [
  {
   "cell_type": "code",
   "execution_count": null,
   "metadata": {
    "pycharm": {
     "name": "#%%\n"
    }
   },
   "outputs": [],
   "source": [
    "import re\n",
    "import sympy\n",
    "\n",
    "def genPatt(patt):\n",
    "    \"\"\"\n",
    "    This is a temporary script file.\n",
    "    \"\"\"\n",
    "    p=re.compile(str(patt))\n",
    "    return lambda x: bool(re.search(p,str(x)))\n",
    "\n",
    "\n",
    "\n",
    "# %%\n",
    "_=2\n",
    "_=genPatt(\"^s.*\")\n",
    "_=filter(_,dir(re))\n",
    "print(list(_))\n",
    "\n",
    "#%%\n",
    "\n",
    "def only(patt,strs):\n",
    "    _ = genPatt(patt)\n",
    "    _ = filter(_, strs)\n",
    "    return list(_)\n",
    "\n",
    "\n",
    "\n",
    "def TableForm(lst):\n",
    "    print(*lst, sep='\\n')\n",
    "\n",
    "\n",
    "\n",
    "\n",
    "#%%\n",
    "\n",
    "\n",
    "import pprint\n",
    "_=only(\"^s.*\",dir(re))\n",
    "print(_)\n",
    "TableForm(_)\n",
    "\n",
    "#%%\n",
    "x=sympy.symbols('\\mu')"
   ]
  },
  {
   "cell_type": "code",
   "execution_count": null,
   "metadata": {},
   "outputs": [],
   "source": []
  },
  {
   "cell_type": "code",
   "execution_count": null,
   "metadata": {
    "pycharm": {
     "name": "#%%\n"
    }
   },
   "outputs": [],
   "source": [
    "\n"
   ]
  }
 ],
 "metadata": {
  "kernelspec": {
   "display_name": "Python 3",
   "language": "python",
   "name": "python3"
  },
  "language_info": {
   "codemirror_mode": {
    "name": "ipython",
    "version": 3
   },
   "file_extension": ".py",
   "mimetype": "text/x-python",
   "name": "python",
   "nbconvert_exporter": "python",
   "pygments_lexer": "ipython3",
   "version": "3.7.4"
  },
  "pycharm": {
   "stem_cell": {
    "cell_type": "raw",
    "metadata": {
     "collapsed": false
    },
    "source": []
   }
  }
 },
 "nbformat": 4,
 "nbformat_minor": 1
}
