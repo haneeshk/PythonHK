{
 "cells": [
  {
   "cell_type": "code",
   "execution_count": 1,
   "metadata": {},
   "outputs": [
    {
     "data": {
      "text/plain": [
       "'/Users/haneeshkesari/.ipython/profile_default/startup'"
      ]
     },
     "execution_count": 1,
     "metadata": {},
     "output_type": "execute_result"
    }
   ],
   "source": [
    "get_ipython().profile_dir.startup_dir"
   ]
  },
  {
   "cell_type": "markdown",
   "metadata": {},
   "source": [
    "$\\usf{x}$"
   ]
  },
  {
   "cell_type": "code",
   "execution_count": 2,
   "metadata": {},
   "outputs": [
    {
     "data": {
      "text/plain": [
       "-0.8414709848078965"
      ]
     },
     "execution_count": 2,
     "metadata": {},
     "output_type": "execute_result"
    }
   ],
   "source": [
    "sin*ov*cos-at-pi"
   ]
  },
  {
   "cell_type": "code",
   "execution_count": 3,
   "metadata": {
    "jupyter": {
     "source_hidden": true
    }
   },
   "outputs": [
    {
     "data": {
      "text/latex": [
       "\n",
       "$$\\newcommand{\\forcemag}{f}\n",
       "\\newcommand{\\physF}{\\boldsymbol{\\mathfrak{f}}} %\n",
       "\\newcommand{\\physB}{\\mathscr{b}} % Width of the thin film\n",
       "\\newcommand{\\physE}{{\\mathpzc{E}}} % Young's modulus of the thin film\n",
       "\\newcommand{\\physh}{\\mathscr{h}} % Thickness of the thin film.\n",
       "\\newcommand{\\physe}{\\mathbscr{e}} % Thickness of the thin film.\n",
       "\\newcommand{\\physf}{\\boldsymbol{\\mathfrak{f}}} % Thickness of the thin film.\n",
       "\\newcommand{\\physm}{\\mathscr{m}} %\n",
       "\\newcommand{\\physu}{\\mathbscr{u}}\n",
       "\\newcommand{\\physw}{\\mathscr{w}}\n",
       "\\newcommand{\\rtple}[1]{\\boldsymbol{#1}}\n",
       "\\renewcommand{\\u}[1]{\\boldsymbol{#1}}\n",
       "\\newcommand{\\OriginRefEucldPtSpace}{O_{\\mathrm{ R}}}\n",
       "\\newcommand{\\MapManifoldToRefEucldPtSpace}{\\kappa_{\\mathrm{ R}}}\n",
       "\\renewcommand{\\t}[1]{\\tilde{#1}}\n",
       "\\renewcommand{\\b}[1]{\\mathbb{#1}}\n",
       "\\renewcommand{\\c}[1]{\\mathcal{#1}}\n",
       "\\newcommand{\\lsc}[2][\\mathscr{l}]{{}^{ #1 }\\! #2}\n",
       "\\newcommand{\\lscH}[1]{\\lsc[H]{#1}}\n",
       "\\newcommand{\\dsf}[1]{\\Delta\\boldsymbol{\\sf #1}}\n",
       "\\newcommand{\\tpsb}[1]{\\left. #1 \\right.^{\\sf T}}\n",
       "\\newcommand{\\tps}[1]{\\left( #1 \\right)^{\\sf T}}\n",
       "\\newcommand{\\usf}[1]{\\u{\\sf #1}}\n",
       "\\newcommand{\\busf}[1]{\\bar{\\usf{ #1}}}\n",
       "\\newcommand{\\tu}[1]{\\tilde{\\u{ #1}}}\n",
       "\\newcommand{\\tusf}[1]{\\tilde{\\usf{ #1}}}\n",
       "\\newcommand{\\btusf}[1]{\\bar{\\tusf{ #1}}}\n",
       "\\newcommand{\\pr}[1]{\\left( #1 \\right)}\n",
       "\\newcommand*{\\subfigurewdith}{0.8\\textwidth}\n",
       "\\newcommand{\\D}[1]{D\\hspace{-.1em}#1}\n",
       "\\newcommand{\\Dr}{D\\hspace{-.1em}\\varrho}\n",
       "\\newcommand{\\Drp}{\\Dr^{+}}\n",
       "\\newcommand{\\Drm}{\\Dr^{-}}\n",
       "\\newcommand{\\Dro}{\\dot{\\rho}}\n",
       "\\newcommand{\\DDro}{\\ddot{\\rho}}\n",
       "\\newcommand{\\Df}{\\dot{f}}\n",
       "\\newcommand{\\DDf}{\\ddot{f}}\n",
       "\\newcommand{\\Drop}{\\Dro^{+}}\n",
       "\\newcommand{\\Drom}{\\Dro^{-}}\n",
       "\\newcommand{\\Dl}{\\dot{l}}\n",
       "\\newcommand{\\Da}{\\dot{a}}\n",
       "\\newcommand{\\DDl}{\\ddot{l}}\n",
       "\\newcommand{\\DF}{\\dot{F}}\n",
       "\\newcommand{\\DDF}{\\ddot{F}}\n",
       "\\newcommand{\\Dlp}{\\Dl^{+}}\n",
       "\\newcommand{\\Dlm}{\\Dl^{-}}\n",
       "\\newcommand{\\Dam}{\\Da^{-}}\n",
       "\\newcommand{\\Deq}{\\mathcal{D}^{\\circ}}\n",
       "\\newcommand{\\Dst}{\\mathcal{D}^{\\stable}}\n",
       "\\newcommand{\\Dnt}{\\mathcal{D}^{\\odot}}\n",
       "\\newcommand{\\Dunst}{\\mathcal{D}^{\\otimes}}\n",
       "\\newcommand{\\conf}{\\boldsymbol{\\kappa}}\n",
       "\\newcommand{\\confp}{\\tilde{\\boldsymbol{\\kappa}}}$$\n"
      ],
      "text/plain": [
       "<IPython.core.display.Latex object>"
      ]
     },
     "metadata": {},
     "output_type": "display_data"
    }
   ],
   "source": [
    "%%latex \n",
    "\n",
    "$$\\newcommand{\\forcemag}{f}\n",
    "\\newcommand{\\physF}{\\boldsymbol{\\mathfrak{f}}} %\n",
    "\\newcommand{\\physB}{\\mathscr{b}} % Width of the thin film\n",
    "\\newcommand{\\physE}{{\\mathpzc{E}}} % Young's modulus of the thin film\n",
    "\\newcommand{\\physh}{\\mathscr{h}} % Thickness of the thin film.\n",
    "\\newcommand{\\physe}{\\mathbscr{e}} % Thickness of the thin film.\n",
    "\\newcommand{\\physf}{\\boldsymbol{\\mathfrak{f}}} % Thickness of the thin film.\n",
    "\\newcommand{\\physm}{\\mathscr{m}} %\n",
    "\\newcommand{\\physu}{\\mathbscr{u}}\n",
    "\\newcommand{\\physw}{\\mathscr{w}}\n",
    "\\newcommand{\\rtple}[1]{\\boldsymbol{#1}}\n",
    "\\renewcommand{\\u}[1]{\\boldsymbol{#1}}\n",
    "\\newcommand{\\OriginRefEucldPtSpace}{O_{\\mathrm{ R}}}\n",
    "\\newcommand{\\MapManifoldToRefEucldPtSpace}{\\kappa_{\\mathrm{ R}}}\n",
    "\\renewcommand{\\t}[1]{\\tilde{#1}}\n",
    "\\renewcommand{\\b}[1]{\\mathbb{#1}}\n",
    "\\renewcommand{\\c}[1]{\\mathcal{#1}}\n",
    "\\newcommand{\\lsc}[2][\\mathscr{l}]{{}^{ #1 }\\! #2}\n",
    "\\newcommand{\\lscH}[1]{\\lsc[H]{#1}}\n",
    "\\newcommand{\\dsf}[1]{\\Delta\\boldsymbol{\\sf #1}}\n",
    "\\newcommand{\\tpsb}[1]{\\left. #1 \\right.^{\\sf T}}\n",
    "\\newcommand{\\tps}[1]{\\left( #1 \\right)^{\\sf T}}\n",
    "\\newcommand{\\usf}[1]{\\u{\\sf #1}}\n",
    "\\newcommand{\\busf}[1]{\\bar{\\usf{ #1}}}\n",
    "\\newcommand{\\tu}[1]{\\tilde{\\u{ #1}}}\n",
    "\\newcommand{\\tusf}[1]{\\tilde{\\usf{ #1}}}\n",
    "\\newcommand{\\btusf}[1]{\\bar{\\tusf{ #1}}}\n",
    "\\newcommand{\\pr}[1]{\\left( #1 \\right)}\n",
    "\\newcommand*{\\subfigurewdith}{0.8\\textwidth}\n",
    "\\newcommand{\\D}[1]{D\\hspace{-.1em}#1}\n",
    "\\newcommand{\\Dr}{D\\hspace{-.1em}\\varrho}\n",
    "\\newcommand{\\Drp}{\\Dr^{+}}\n",
    "\\newcommand{\\Drm}{\\Dr^{-}}\n",
    "\\newcommand{\\Dro}{\\dot{\\rho}}\n",
    "\\newcommand{\\DDro}{\\ddot{\\rho}}\n",
    "\\newcommand{\\Df}{\\dot{f}}\n",
    "\\newcommand{\\DDf}{\\ddot{f}}\n",
    "\\newcommand{\\Drop}{\\Dro^{+}}\n",
    "\\newcommand{\\Drom}{\\Dro^{-}}\n",
    "\\newcommand{\\Dl}{\\dot{l}}\n",
    "\\newcommand{\\Da}{\\dot{a}}\n",
    "\\newcommand{\\DDl}{\\ddot{l}}\n",
    "\\newcommand{\\DF}{\\dot{F}}\n",
    "\\newcommand{\\DDF}{\\ddot{F}}\n",
    "\\newcommand{\\Dlp}{\\Dl^{+}}\n",
    "\\newcommand{\\Dlm}{\\Dl^{-}}\n",
    "\\newcommand{\\Dam}{\\Da^{-}}\n",
    "\\newcommand{\\Deq}{\\mathcal{D}^{\\circ}}\n",
    "\\newcommand{\\Dst}{\\mathcal{D}^{\\stable}}\n",
    "\\newcommand{\\Dnt}{\\mathcal{D}^{\\odot}}\n",
    "\\newcommand{\\Dunst}{\\mathcal{D}^{\\otimes}}\n",
    "\\newcommand{\\conf}{\\boldsymbol{\\kappa}}\n",
    "\\newcommand{\\confp}{\\tilde{\\boldsymbol{\\kappa}}}$$\n"
   ]
  },
  {
   "cell_type": "code",
   "execution_count": 16,
   "metadata": {},
   "outputs": [
    {
     "data": {
      "text/latex": [
       "\n",
       "$$\n",
       "\\newcommand{\\usf}[1]{\\boldsymbol{\\mathsf{#}}}\n",
       "$$\n",
       "\n",
       "$$\n",
       "\\epsilon_{\\rm max}= \\{ \\epsilon{\\usf{x}}~|~x\\in \\mathcal{B}\\}\n",
       "$$\n"
      ],
      "text/plain": [
       "<IPython.core.display.Latex object>"
      ]
     },
     "metadata": {},
     "output_type": "display_data"
    }
   ],
   "source": [
    "%%latex\n",
    "\n",
    "$$\n",
    "\\newcommand{\\usf}[1]{\\boldsymbol{\\mathsf{#}}}\n",
    "$$\n",
    "\n",
    "$$\n",
    "\\epsilon_{\\rm max}= \\{ \\epsilon{\\usf{x}}~|~x\\in \\mathcal{B}\\}\n",
    "$$"
   ]
  },
  {
   "cell_type": "code",
   "execution_count": 17,
   "metadata": {},
   "outputs": [
    {
     "name": "stdout",
     "output_type": "stream",
     "text": [
      "1.2246467991473532e-16\n"
     ]
    }
   ],
   "source": [
    "sin(pi)-to*at*print"
   ]
  },
  {
   "cell_type": "code",
   "execution_count": 8,
   "metadata": {},
   "outputs": [
    {
     "name": "stdout",
     "output_type": "stream",
     "text": [
      "0.8414709848078965\n",
      "0.9092974268256817\n",
      "0.1411200080598672\n"
     ]
    }
   ],
   "source": [
    "sin*at*[1,2,3]-to*at*print;"
   ]
  },
  {
   "cell_type": "code",
   "execution_count": null,
   "metadata": {},
   "outputs": [],
   "source": []
  }
 ],
 "metadata": {
  "kernelspec": {
   "display_name": "Python 3",
   "language": "python",
   "name": "python3"
  },
  "language_info": {
   "codemirror_mode": {
    "name": "ipython",
    "version": 3
   },
   "file_extension": ".py",
   "mimetype": "text/x-python",
   "name": "python",
   "nbconvert_exporter": "python",
   "pygments_lexer": "ipython3",
   "version": "3.7.4"
  }
 },
 "nbformat": 4,
 "nbformat_minor": 4
}
