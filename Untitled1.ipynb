{
  "cells": [
    {
      "cell_type": "code",
      "source": [
        "get_ipython().profile_dir.startup_dir"
      ],
      "outputs": [
        {
          "output_type": "execute_result",
          "execution_count": 1,
          "data": {
            "text/plain": [
              "'/Users/haneeshkesari/.ipython/profile_default/startup'"
            ]
          },
          "metadata": {}
        }
      ],
      "execution_count": 1,
      "metadata": {
        "execution": {
          "iopub.status.busy": "2020-05-03T02:45:52.266Z",
          "iopub.execute_input": "2020-05-03T02:45:52.272Z",
          "iopub.status.idle": "2020-05-03T02:45:52.281Z",
          "shell.execute_reply": "2020-05-03T02:45:52.294Z"
        }
      }
    },
    {
      "cell_type": "markdown",
      "source": [
        "$\\usf{x}$"
      ],
      "metadata": {}
    },
    {
      "cell_type": "code",
      "source": [
        "sin*ov*cos-at-(pi/2)"
      ],
      "outputs": [
        {
          "output_type": "execute_result",
          "execution_count": 3,
          "data": {
            "text/plain": [
              "6.123233995736766e-17"
            ]
          },
          "metadata": {}
        }
      ],
      "execution_count": 3,
      "metadata": {
        "execution": {
          "iopub.status.busy": "2020-05-03T02:46:02.020Z",
          "iopub.execute_input": "2020-05-03T02:46:02.024Z",
          "iopub.status.idle": "2020-05-03T02:46:02.031Z",
          "shell.execute_reply": "2020-05-03T02:46:02.036Z"
        }
      }
    },
    {
      "cell_type": "code",
      "source": [
        "%%latex \n",
        "\n",
        "$$\\newcommand{\\forcemag}{f}\n",
        "\\newcommand{\\physF}{\\boldsymbol{\\mathfrak{f}}} %\n",
        "\\newcommand{\\physB}{\\mathscr{b}} % Width of the thin film\n",
        "\\newcommand{\\physE}{{\\mathpzc{E}}} % Young's modulus of the thin film\n",
        "\\newcommand{\\physh}{\\mathscr{h}} % Thickness of the thin film.\n",
        "\\newcommand{\\physe}{\\mathbscr{e}} % Thickness of the thin film.\n",
        "\\newcommand{\\physf}{\\boldsymbol{\\mathfrak{f}}} % Thickness of the thin film.\n",
        "\\newcommand{\\physm}{\\mathscr{m}} %\n",
        "\\newcommand{\\physu}{\\mathbscr{u}}\n",
        "\\newcommand{\\physw}{\\mathscr{w}}\n",
        "\\newcommand{\\rtple}[1]{\\boldsymbol{#1}}\n",
        "\\renewcommand{\\u}[1]{\\boldsymbol{#1}}\n",
        "\\newcommand{\\OriginRefEucldPtSpace}{O_{\\mathrm{ R}}}\n",
        "\\newcommand{\\MapManifoldToRefEucldPtSpace}{\\kappa_{\\mathrm{ R}}}\n",
        "\\renewcommand{\\t}[1]{\\tilde{#1}}\n",
        "\\renewcommand{\\b}[1]{\\mathbb{#1}}\n",
        "\\renewcommand{\\c}[1]{\\mathcal{#1}}\n",
        "\\newcommand{\\lsc}[2][\\mathscr{l}]{{}^{ #1 }\\! #2}\n",
        "\\newcommand{\\lscH}[1]{\\lsc[H]{#1}}\n",
        "\\newcommand{\\dsf}[1]{\\Delta\\boldsymbol{\\sf #1}}\n",
        "\\newcommand{\\tpsb}[1]{\\left. #1 \\right.^{\\sf T}}\n",
        "\\newcommand{\\tps}[1]{\\left( #1 \\right)^{\\sf T}}\n",
        "\\newcommand{\\usf}[1]{\\u{\\sf #1}}\n",
        "\\newcommand{\\busf}[1]{\\bar{\\usf{ #1}}}\n",
        "\\newcommand{\\tu}[1]{\\tilde{\\u{ #1}}}\n",
        "\\newcommand{\\tusf}[1]{\\tilde{\\usf{ #1}}}\n",
        "\\newcommand{\\btusf}[1]{\\bar{\\tusf{ #1}}}\n",
        "\\newcommand{\\pr}[1]{\\left( #1 \\right)}\n",
        "\\newcommand*{\\subfigurewdith}{0.8\\textwidth}\n",
        "\\newcommand{\\D}[1]{D\\hspace{-.1em}#1}\n",
        "\\newcommand{\\Dr}{D\\hspace{-.1em}\\varrho}\n",
        "\\newcommand{\\Drp}{\\Dr^{+}}\n",
        "\\newcommand{\\Drm}{\\Dr^{-}}\n",
        "\\newcommand{\\Dro}{\\dot{\\rho}}\n",
        "\\newcommand{\\DDro}{\\ddot{\\rho}}\n",
        "\\newcommand{\\Df}{\\dot{f}}\n",
        "\\newcommand{\\DDf}{\\ddot{f}}\n",
        "\\newcommand{\\Drop}{\\Dro^{+}}\n",
        "\\newcommand{\\Drom}{\\Dro^{-}}\n",
        "\\newcommand{\\Dl}{\\dot{l}}\n",
        "\\newcommand{\\Da}{\\dot{a}}\n",
        "\\newcommand{\\DDl}{\\ddot{l}}\n",
        "\\newcommand{\\DF}{\\dot{F}}\n",
        "\\newcommand{\\DDF}{\\ddot{F}}\n",
        "\\newcommand{\\Dlp}{\\Dl^{+}}\n",
        "\\newcommand{\\Dlm}{\\Dl^{-}}\n",
        "\\newcommand{\\Dam}{\\Da^{-}}\n",
        "\\newcommand{\\Deq}{\\mathcal{D}^{\\circ}}\n",
        "\\newcommand{\\Dst}{\\mathcal{D}^{\\stable}}\n",
        "\\newcommand{\\Dnt}{\\mathcal{D}^{\\odot}}\n",
        "\\newcommand{\\Dunst}{\\mathcal{D}^{\\otimes}}\n",
        "\\newcommand{\\conf}{\\boldsymbol{\\kappa}}\n",
        "\\newcommand{\\confp}{\\tilde{\\boldsymbol{\\kappa}}}$$\n"
      ],
      "outputs": [
        {
          "output_type": "display_data",
          "data": {
            "text/plain": [
              "<IPython.core.display.Latex object>"
            ],
            "text/latex": [
              "\n",
              "$$\\newcommand{\\forcemag}{f}\n",
              "\\newcommand{\\physF}{\\boldsymbol{\\mathfrak{f}}} %\n",
              "\\newcommand{\\physB}{\\mathscr{b}} % Width of the thin film\n",
              "\\newcommand{\\physE}{{\\mathpzc{E}}} % Young's modulus of the thin film\n",
              "\\newcommand{\\physh}{\\mathscr{h}} % Thickness of the thin film.\n",
              "\\newcommand{\\physe}{\\mathbscr{e}} % Thickness of the thin film.\n",
              "\\newcommand{\\physf}{\\boldsymbol{\\mathfrak{f}}} % Thickness of the thin film.\n",
              "\\newcommand{\\physm}{\\mathscr{m}} %\n",
              "\\newcommand{\\physu}{\\mathbscr{u}}\n",
              "\\newcommand{\\physw}{\\mathscr{w}}\n",
              "\\newcommand{\\rtple}[1]{\\boldsymbol{#1}}\n",
              "\\renewcommand{\\u}[1]{\\boldsymbol{#1}}\n",
              "\\newcommand{\\OriginRefEucldPtSpace}{O_{\\mathrm{ R}}}\n",
              "\\newcommand{\\MapManifoldToRefEucldPtSpace}{\\kappa_{\\mathrm{ R}}}\n",
              "\\renewcommand{\\t}[1]{\\tilde{#1}}\n",
              "\\renewcommand{\\b}[1]{\\mathbb{#1}}\n",
              "\\renewcommand{\\c}[1]{\\mathcal{#1}}\n",
              "\\newcommand{\\lsc}[2][\\mathscr{l}]{{}^{ #1 }\\! #2}\n",
              "\\newcommand{\\lscH}[1]{\\lsc[H]{#1}}\n",
              "\\newcommand{\\dsf}[1]{\\Delta\\boldsymbol{\\sf #1}}\n",
              "\\newcommand{\\tpsb}[1]{\\left. #1 \\right.^{\\sf T}}\n",
              "\\newcommand{\\tps}[1]{\\left( #1 \\right)^{\\sf T}}\n",
              "\\newcommand{\\usf}[1]{\\u{\\sf #1}}\n",
              "\\newcommand{\\busf}[1]{\\bar{\\usf{ #1}}}\n",
              "\\newcommand{\\tu}[1]{\\tilde{\\u{ #1}}}\n",
              "\\newcommand{\\tusf}[1]{\\tilde{\\usf{ #1}}}\n",
              "\\newcommand{\\btusf}[1]{\\bar{\\tusf{ #1}}}\n",
              "\\newcommand{\\pr}[1]{\\left( #1 \\right)}\n",
              "\\newcommand*{\\subfigurewdith}{0.8\\textwidth}\n",
              "\\newcommand{\\D}[1]{D\\hspace{-.1em}#1}\n",
              "\\newcommand{\\Dr}{D\\hspace{-.1em}\\varrho}\n",
              "\\newcommand{\\Drp}{\\Dr^{+}}\n",
              "\\newcommand{\\Drm}{\\Dr^{-}}\n",
              "\\newcommand{\\Dro}{\\dot{\\rho}}\n",
              "\\newcommand{\\DDro}{\\ddot{\\rho}}\n",
              "\\newcommand{\\Df}{\\dot{f}}\n",
              "\\newcommand{\\DDf}{\\ddot{f}}\n",
              "\\newcommand{\\Drop}{\\Dro^{+}}\n",
              "\\newcommand{\\Drom}{\\Dro^{-}}\n",
              "\\newcommand{\\Dl}{\\dot{l}}\n",
              "\\newcommand{\\Da}{\\dot{a}}\n",
              "\\newcommand{\\DDl}{\\ddot{l}}\n",
              "\\newcommand{\\DF}{\\dot{F}}\n",
              "\\newcommand{\\DDF}{\\ddot{F}}\n",
              "\\newcommand{\\Dlp}{\\Dl^{+}}\n",
              "\\newcommand{\\Dlm}{\\Dl^{-}}\n",
              "\\newcommand{\\Dam}{\\Da^{-}}\n",
              "\\newcommand{\\Deq}{\\mathcal{D}^{\\circ}}\n",
              "\\newcommand{\\Dst}{\\mathcal{D}^{\\stable}}\n",
              "\\newcommand{\\Dnt}{\\mathcal{D}^{\\odot}}\n",
              "\\newcommand{\\Dunst}{\\mathcal{D}^{\\otimes}}\n",
              "\\newcommand{\\conf}{\\boldsymbol{\\kappa}}\n",
              "\\newcommand{\\confp}{\\tilde{\\boldsymbol{\\kappa}}}$$\n"
            ]
          },
          "metadata": {}
        }
      ],
      "execution_count": 5,
      "metadata": {
        "jupyter": {
          "source_hidden": true
        },
        "execution": {
          "iopub.status.busy": "2020-05-03T02:46:10.456Z",
          "iopub.execute_input": "2020-05-03T02:46:10.461Z",
          "iopub.status.idle": "2020-05-03T02:46:10.474Z",
          "shell.execute_reply": "2020-05-03T02:46:10.478Z"
        }
      }
    },
    {
      "cell_type": "code",
      "source": [
        "%%latex\n",
        "\n",
        "$$\n",
        "\\newcommand{\\usf}[1]{\\boldsymbol{\\mathsf{#}}}\n",
        "$$\n",
        "\n",
        "$$\n",
        "\\epsilon_{\\rm max}= \\{ \\epsilon{\\usf{x}}~|~x\\in \\mathcal{B}\\}\n",
        "$$"
      ],
      "outputs": [
        {
          "output_type": "display_data",
          "data": {
            "text/latex": [
              "\n",
              "$$\n",
              "\\newcommand{\\usf}[1]{\\boldsymbol{\\mathsf{#}}}\n",
              "$$\n",
              "\n",
              "$$\n",
              "\\epsilon_{\\rm max}= \\{ \\epsilon{\\usf{x}}~|~x\\in \\mathcal{B}\\}\n",
              "$$\n"
            ],
            "text/plain": [
              "<IPython.core.display.Latex object>"
            ]
          },
          "metadata": {}
        }
      ],
      "execution_count": 16,
      "metadata": {}
    },
    {
      "cell_type": "code",
      "source": [
        "sin(pi)-to*at*print"
      ],
      "outputs": [
        {
          "output_type": "stream",
          "name": "stdout",
          "text": [
            "1.2246467991473532e-16\n"
          ]
        }
      ],
      "execution_count": 17,
      "metadata": {}
    },
    {
      "cell_type": "code",
      "source": [
        "sin*at*[0,pi/4,pi/2]-to*at*print;"
      ],
      "outputs": [
        {
          "output_type": "stream",
          "name": "stdout",
          "text": [
            "0.0\n",
            "0.7071067811865475\n",
            "1.0\n"
          ]
        }
      ],
      "execution_count": 6,
      "metadata": {
        "execution": {
          "iopub.status.busy": "2020-05-03T02:46:46.076Z",
          "iopub.execute_input": "2020-05-03T02:46:46.079Z",
          "iopub.status.idle": "2020-05-03T02:46:46.085Z",
          "shell.execute_reply": "2020-05-03T02:46:46.089Z"
        }
      }
    },
    {
      "cell_type": "code",
      "source": [],
      "outputs": [],
      "execution_count": null,
      "metadata": {}
    }
  ],
  "metadata": {
    "kernelspec": {
      "display_name": "Python 3",
      "language": "python",
      "name": "python3"
    },
    "language_info": {
      "name": "python",
      "version": "3.7.4",
      "mimetype": "text/x-python",
      "codemirror_mode": {
        "name": "ipython",
        "version": 3
      },
      "pygments_lexer": "ipython3",
      "nbconvert_exporter": "python",
      "file_extension": ".py"
    },
    "nteract": {
      "version": "0.23.1"
    }
  },
  "nbformat": 4,
  "nbformat_minor": 4
}