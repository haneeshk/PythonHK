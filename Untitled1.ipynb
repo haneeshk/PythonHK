{
 "cells": [
  {
   "cell_type": "code",
   "execution_count": 1,
   "metadata": {},
   "outputs": [
    {
     "name": "stdout",
     "output_type": "stream",
     "text": [
      "013_Rice_MechCrackTipDefFatigue_ASTM67.pdf\n",
      "1-s2.0-S0022509606001268-main.pdf\n",
      "1065536897-MIT.pdf\n",
      "1R01AR077139-01.pdf\n",
      "2.pdf\n",
      "25th International Congress of Theoretical and Applied Mechanics Milan (Italy), 23 - 28 August 2020.pdf\n",
      "\u001b[1m\u001b[36m5d9619d78837690001825765\u001b[m\u001b[m/\n",
      "\u001b[1m\u001b[36m5e2a26a5b24ba100011fbfa9\u001b[m\u001b[m/\n",
      "Add.m\n",
      "AddEncoded.m\n",
      "BackUp.py\n",
      "\u001b[1m\u001b[36mC_Cpp_Petsc\u001b[m\u001b[m/\n",
      "Centrifuge.nb\n",
      "\u001b[1m\u001b[36mCpp-High-Performance\u001b[m\u001b[m/\n",
      "\u001b[1m\u001b[36mCurvilinear\u001b[m\u001b[m/\n",
      "Element.cpp\n",
      "FP_Operators.ipynb\n",
      "\u001b[1m\u001b[36mFiniteElements\u001b[m\u001b[m/\n",
      "\u001b[1m\u001b[36mFiniteElementsHK\u001b[m\u001b[m/\n",
      "FriendsEmails.nb\n",
      "Harley Flanders - Differential Forms with Applications to the Physical Sciences-AP (1963).pdf\n",
      "Home _ School of Engineering.html\n",
      "\u001b[1m\u001b[36mHome _ School of Engineering_files\u001b[m\u001b[m/\n",
      "IMG_0811.JPG\n",
      "\u001b[1m\u001b[36mIUTAM2020\u001b[m\u001b[m/\n",
      "InvestigatorDisclosure_MPPB_Unsigned.pdf\n",
      "JMPS_2019_867_R1.pdf\n",
      "JMPS_AO_revision.nb\n",
      "JMPS_AO_revision_2D.nb\n",
      "JMPS_AO_revision_3D.nb\n",
      "Kesari_ProjectDescription.pdf\n",
      "\u001b[1m\u001b[36mLamellarNatComm\u001b[m\u001b[m/\n",
      "LatticeToughness.nb\n",
      "Lecture-1-Jaynes-Cumming-model.ipynb\n",
      "LinearRange.h\n",
      "LinearRange.o\n",
      "LinearRange.pcm\n",
      "Mueller_et_al-2018-Advanced_Science.pdf\n",
      "NSF_Report_2019.pdf\n",
      "Nilsson N.J. - Introduction to machine learning (1996).pdf\n",
      "Not all of nature’s layered structures are tough as animal shells and antlers, study finds _ School of Engineering.html\n",
      "\u001b[1m\u001b[36mNot all of nature’s layered structures are tough as animal shells and antlers, study finds _ School of Engineering_files\u001b[m\u001b[m/\n",
      "Notebook (2).pdf\n",
      "\u001b[1m\u001b[36mOpen3D\u001b[m\u001b[m/\n",
      "Panthermeeting0205_Brain_Strain_Yang_HK.key\n",
      "Plasticity.nb\n",
      "\u001b[1m\u001b[36mPublic\u001b[m\u001b[m/\n",
      "\u001b[1m\u001b[36mPythonExp\u001b[m\u001b[m/\n",
      "\u001b[1m\u001b[36mPythonHK\u001b[m\u001b[m/\n",
      "Stair_Step_Pattern_2018.pdf\n",
      "Stress Centrifugation_Yang (4).pdf\n",
      "Untitled-1\n",
      "Untitled-1.nb\n",
      "Untitled-1.pdf\n",
      "Untitled-12.nb\n",
      "Untitled-123.nb\n",
      "Untitled-2.1.1.nb\n",
      "Untitled-2.1.nb\n",
      "Untitled-2.html\n",
      "Untitled-2.nb\n",
      "Untitled-4.1.nb\n",
      "Untitled-4.nb\n",
      "Untitled-5.nb\n",
      "Untitled-6.nb\n",
      "Untitled-7.1.nb\n",
      "Untitled-8.1.nb\n",
      "Untitled-8.nb\n",
      "Untitled.ipynb\n",
      "Untitled1.ipynb\n",
      "\u001b[1m\u001b[36mWavyPeeling_JMPS\u001b[m\u001b[m/\n",
      "\u001b[30m\u001b[43m__pycache__\u001b[m\u001b[m/\n",
      "\u001b[31ma.out\u001b[m\u001b[m*\n",
      "\u001b[1m\u001b[36mappliedmechanicslab\u001b[m\u001b[m/\n",
      "\u001b[1m\u001b[36mappliedmechanicslab.github.io\u001b[m\u001b[m/\n",
      "\u001b[1m\u001b[36mblaze-3.7\u001b[m\u001b[m/\n",
      "blaze-3.7.tar.gz\n",
      "book.pdf\n",
      "com.Brown.Engineering.PythonHKBackup.plist\n",
      "\u001b[1m\u001b[36mcpp_modules_sample\u001b[m\u001b[m/\n",
      "crackplane.nb\n",
      "cube.obj\n",
      "\u001b[1m\u001b[36mdash-app-hk\u001b[m\u001b[m/\n",
      "dispersion_curves_em_new.pdf\n",
      "dog.cpp\n",
      "dummy.log\n",
      "dummy.tex\n",
      "\u001b[1m\u001b[36mgnuplot-iostream\u001b[m\u001b[m/\n",
      "log.nb\n",
      "\u001b[31mmain\u001b[m\u001b[m*\n",
      "\u001b[31mmain2.o\u001b[m\u001b[m*\n",
      "main2.root\n",
      "main3.cpp\n",
      "manual.pdf\n",
      "mat.dat\n",
      "math.cppm\n",
      "math.o\n",
      "math.pcm\n",
      "mcclintock1971.pdf\n",
      "mesh.py\n",
      "mml-book.pdf\n",
      "\u001b[1m\u001b[36mopengltest\u001b[m\u001b[m/\n",
      "\u001b[1m\u001b[36mp4pdes\u001b[m\u001b[m/\n",
      "petsc_makefile\n",
      "pk-APKAJNWB3H3ATGTGJN3A.pem\n",
      "\u001b[1m\u001b[36mpybooks\u001b[m\u001b[m/\n",
      "\u001b[1m\u001b[36mpyfem-1.0\u001b[m\u001b[m/\n",
      "pyfem-1.0.tar.gz\n",
      "setup.py\n",
      "tan2017.pdf\n",
      "\u001b[1m\u001b[36mtarget\u001b[m\u001b[m/\n",
      "temp.py\n",
      "temp.pyx\n",
      "\u001b[31mtest\u001b[m\u001b[m*\n",
      "test.cpp\n",
      "test.py\n",
      "test100.cpp\n",
      "\u001b[1m\u001b[36mtest2\u001b[m\u001b[m/\n",
      "\u001b[1m\u001b[36mtest3\u001b[m\u001b[m/\n",
      "test32.py\n",
      "\u001b[1m\u001b[36mtest4\u001b[m\u001b[m/\n",
      "triangulation.ipynb\n",
      "unnamed.C\n",
      "~$AFT_Thunderstorm 20-3 RFI - Appendix 1 (1).docx\n"
     ]
    }
   ],
   "source": [
    "cd "
   ]
  },
  {
   "cell_type": "markdown",
   "metadata": {},
   "source": [
    "## Tasks with Corrie\n",
    "* Edit Kronecker Delta with Corrie\n",
    "* Alice, review\n",
    "* Read about the. $\\mathcal{x}^2$ \n",
    "* What to do with Lisa. (Maybe write an email today?)"
   ]
  },
  {
   "cell_type": "markdown",
   "metadata": {},
   "source": [
    "### Things to Do\n",
    "* Reply to Alice\n",
    "* Send drawing to Rafael and Yang. \n",
    "* Kathyrn Email"
   ]
  },
  {
   "cell_type": "code",
   "execution_count": 21,
   "metadata": {},
   "outputs": [],
   "source": [
    "import matplotlib.pyplot as plt  \n",
    "import numpy as np\n",
    "π=np.pi;"
   ]
  },
  {
   "cell_type": "code",
   "execution_count": 22,
   "metadata": {},
   "outputs": [],
   "source": [
    "\n",
    "x=np.arange(-2*π,2*π,0.1)\n",
    "y=np.sin(x)\n"
   ]
  },
  {
   "cell_type": "code",
   "execution_count": 24,
   "metadata": {},
   "outputs": [
    {
     "data": {
      "image/png": "[encoded data removed]",
      "text/plain": [
       "<Figure size 432x288 with 1 Axes>"
      ]
     },
     "metadata": {
      "needs_background": "light"
     },
     "output_type": "display_data"
    }
   ],
   "source": [
    "plt.plot(x,y);"
   ]
  },
  {
   "cell_type": "code",
   "execution_count": 3,
   "metadata": {
    "ExecuteTime": {
     "end_time": "2020-04-30T12:43:25.687141Z",
     "start_time": "2020-04-30T12:43:24.738060Z"
    }
   },
   "outputs": [
    {
     "name": "stdout",
     "output_type": "stream",
     "text": [
      "Collecting funcoperators\n",
      "Installing collected packages: funcoperators\n",
      "Successfully installed funcoperators-1.1.3\n",
      "\u001b[33mYou are using pip version 19.0.3, however version 20.1 is available.\n",
      "You should consider upgrading via the 'pip install --upgrade pip' command.\u001b[0m\n"
     ]
    }
   ],
   "source": [
    "! pip3 install --user funcoperators"
   ]
  },
  {
   "cell_type": "code",
   "execution_count": 1,
   "metadata": {
    "ExecuteTime": {
     "end_time": "2020-04-30T12:44:18.348187Z",
     "start_time": "2020-04-30T12:44:18.236987Z"
    }
   },
   "outputs": [
    {
     "ename": "ModuleNotFoundError",
     "evalue": "No module named 'funcoperators'",
     "output_type": "error",
     "traceback": [
      "\u001b[0;31m---------------------------------------------------------------------------\u001b[0m",
      "\u001b[0;31mModuleNotFoundError\u001b[0m                       Traceback (most recent call last)",
      "\u001b[0;32m<ipython-input-1-8a7116630bb4>\u001b[0m in \u001b[0;36m<module>\u001b[0;34m\u001b[0m\n\u001b[0;32m----> 1\u001b[0;31m \u001b[0;32mfrom\u001b[0m \u001b[0mfuncoperators\u001b[0m \u001b[0;32mimport\u001b[0m \u001b[0mcompose\u001b[0m \u001b[0;32mas\u001b[0m \u001b[0mo\u001b[0m\u001b[0;34m\u001b[0m\u001b[0;34m\u001b[0m\u001b[0m\n\u001b[0m",
      "\u001b[0;31mModuleNotFoundError\u001b[0m: No module named 'funcoperators'"
     ]
    }
   ],
   "source": [
    "from funcoperators import compose as o"
   ]
  },
  {
   "cell_type": "code",
   "execution_count": null,
   "metadata": {},
   "outputs": [],
   "source": []
  }
 ],
 "metadata": {
  "kernelspec": {
   "display_name": "Python 3",
   "language": "python",
   "name": "python3"
  },
  "language_info": {
   "codemirror_mode": {
    "name": "ipython",
    "version": 3
   },
   "file_extension": ".py",
   "mimetype": "text/x-python",
   "name": "python",
   "nbconvert_exporter": "python",
   "pygments_lexer": "ipython3",
   "version": "3.7.4"
  },
  "varInspector": {
   "cols": {
    "lenName": 16,
    "lenType": 16,
    "lenVar": 40
   },
   "kernels_config": {
    "python": {
     "delete_cmd_postfix": "",
     "delete_cmd_prefix": "del ",
     "library": "var_list.py",
     "varRefreshCmd": "print(var_dic_list())"
    },
    "r": {
     "delete_cmd_postfix": ") ",
     "delete_cmd_prefix": "rm(",
     "library": "var_list.r",
     "varRefreshCmd": "cat(var_dic_list()) "
    }
   },
   "types_to_exclude": [
    "module",
    "function",
    "builtin_function_or_method",
    "instance",
    "_Feature"
   ],
   "window_display": false
  }
 },
 "nbformat": 4,
 "nbformat_minor": 4
}
