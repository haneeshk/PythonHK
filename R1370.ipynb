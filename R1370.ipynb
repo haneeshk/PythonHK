{
  "cells": [
    {
      "cell_type": "code",
      "source": [
        "\n",
        "import sys\n",
        "import os\n",
        "from os.path import dirname\n",
        "sys.path.append(os.getcwd()+\"/startup\")\n",
        "from IPython.display import display as Echo\n",
        "from initHK import *\n"
      ],
      "outputs": [],
      "execution_count": null,
      "metadata": {
        "collapsed": false,
        "jupyter": {
          "source_hidden": false,
          "outputs_hidden": false
        },
        "nteract": {
          "transient": {
            "deleting": false
          }
        }
      }
    },
    {
      "cell_type": "markdown",
      "source": [
        "## The material particle that does not move.\n",
        "The standard deformation mapping is as follows\n",
        "\n",
        "\n",
        "$$\n",
        "\\begin{align}\n",
        "\\usf{x}(\\usf{X},\\tau)&=\\usf{R}(\\tau)\\usf{X}+\\usf{c}(\\tau)\\\\\n",
        "\\usf{V}(\\usf{X},\\tau)&=\\usf{R}'(\\tau)\\usf{X}+\\usf{c}'(\\tau)\n",
        "\\end{align}\n",
        "$$\n",
        "\n",
        "The above equations in the eulerian description is\n",
        "$$\n",
        "\\begin{align}\n",
        "\\usf{v}(\\usf{x},\\tau)&=\\usf{W}(\\tau)\\pr{\\usf{x}-\\usf{c}(\\tau)}+\\usf{c}'(\\tau)\\\\\n",
        "\\usf{X}(\\usf{x},\\tau)&=\\usf{R}^{\\sf T}(\\tau)\\pr{\\usf{x}-\\usf{c}(\\tau)}\n",
        "\\end{align}\n",
        "$$\n",
        "\n",
        "Is there a point (marterial particle) where that does not move?\n",
        "\n",
        "\n"
      ],
      "metadata": {
        "nteract": {
          "transient": {
            "deleting": false
          }
        }
      }
    },
    {
      "cell_type": "markdown",
      "source": [
        "### $\\usf{c}'(\\tau)=\\usf{0}$ is a sufficient condition for there to exist a material particle that does not move. (True)\n",
        "Let us consider the case $\\usf{c}'(\\tau)$ is $\\usf{0}$, i.e., $\\usf{c}(\\tau)=\\usf{c}_0$.\n",
        "$$\n",
        "\\begin{align}\n",
        "\\usf{x}(\\usf{X},\\tau)&=\\usf{R}(\\tau)\\pr{\\usf{X}+\\usf{R}^{\\sf T}(\\tau)\\usf{c}_0}\\\\\n",
        "\\usf{V}(\\usf{X},\\tau)&=\\usf{R}'(\\tau)\\usf{X}\\\\\n",
        "\\usf{v}(\\usf{x},\\tau)&=\\usf{W}(\\tau)\\pr{\\usf{x}-\\usf{c}_0}\\\\\n",
        "\\usf{X}(\\usf{x},\\tau)&=\\usf{R}^{\\sf T}(\\tau)\\pr{\\usf{x}-\\usf{c}_0}\n",
        "\\end{align}\n",
        "$$\n",
        "\n",
        "From the eulerian velocity field we get that the material particle located at the spatial point $\\usf{c}_0$ does not move. From the eulerian version of the deformation mapping we have that the spatial point $\\usf{c}_0$ is occupied by the material particle $\\usf{0}$.\n",
        "\n",
        "Let's see if we get the same result from the Lagrangian description. From the Lagrangian velocity field we have that the material particle $\\usf{0}$ always has zero velocity. Using this information in the Lagrangian deformation mapping we get that the material particle $\\usf{0}$ is always located at $\\usf{c}_0$.\n",
        "\n",
        "From the discussion in this section we can say that $\\usf{c}'(\\tau)=\\usf{0}$ is a sufficient condition for there to exist material particle that does not move.\n"
      ],
      "metadata": {
        "nteract": {
          "transient": {
            "deleting": false
          }
        }
      }
    },
    {
      "cell_type": "markdown",
      "source": [
        "\n",
        "###  $\\usf{c}'(\\tau)=\\usf{0}$ is a necessary condition for there to exist a material particle that does not move (ans: False)\n",
        "\n",
        "Consider the cases when if $\\usf{R}$ is presribed then $\\usf{c}$ is constructed as\n",
        "$$\n",
        "\\begin{equation}\n",
        "\\usf{c}(\\tau)=\\pr{\\usf{I}-\\usf{R}(\\tau)}\\usf{C}_0,\n",
        "\\end{equation}\n",
        "$$\n",
        "where $\\usf{C}_0$ is an arbitrary constant vector.\n",
        "\n",
        "Clearly, $\\usf{c}'(\\tau)\\neq=\\usf{0}$, since it is equal to $-\\usf{R}'(\\tau)\\usf{C}_0$. However, it can be shown that the materials particle $\\usf{C}_0$ always has zero velocity, i.e., it does not move. Thus, $\\usf{c}'(\\tau)=0$ is not a necessary condition for there to exist a materials particle that does not move.\n",
        "\n",
        "\n"
      ],
      "metadata": {
        "nteract": {
          "transient": {
            "deleting": false
          }
        }
      }
    },
    {
      "cell_type": "markdown",
      "source": [
        "\n",
        "### If $\\usf{c}'(\\tau)\\neq \\usf{0}$ then there does not  exist a material particle that does not move. (ans False)\n",
        "\n",
        "The statement is the contrapositive of the previous claim.\n",
        "\n",
        "\n",
        "\n",
        "\n",
        "\n"
      ],
      "metadata": {
        "nteract": {
          "transient": {
            "deleting": false
          }
        }
      }
    },
    {
      "cell_type": "markdown",
      "source": [
        "### So, what is a necessary condition for there to exist a point that does not move?\n",
        "\n",
        "A necessary and sufficient condition condition  that there exists a point $\\usf{X}_0$ that does not move is that there exist a pont $\\usf{X}$ such that\n",
        "\n",
        "$$\n",
        "(\\usf{I}-\\usf{R}(\\tau))\\usf{X}=\\usf{c}(\\tau)\n",
        "$$\n",
        "for all $\\tau$.\n",
        "\n",
        "\n",
        "\n",
        "\n",
        "\n",
        "\n",
        "\n",
        "\n",
        "\n"
      ],
      "metadata": {
        "nteract": {
          "transient": {
            "deleting": false
          }
        }
      }
    },
    {
      "cell_type": "code",
      "source": [
        "data={'Name':[\"x\",\"y\",\"z\"],'value':[1.0,2.0,3.0]}\n",
        "import pandas as pd\n",
        "data=pd.DataFrame(data)\n",
        "display(data)\n",
        "cos*ov*sin-at-pi/2;"
      ],
      "outputs": [],
      "execution_count": null,
      "metadata": {
        "collapsed": false,
        "jupyter": {
          "source_hidden": false,
          "outputs_hidden": false
        },
        "nteract": {
          "transient": {
            "deleting": false
          }
        }
      }
    },
    {
      "cell_type": "markdown",
      "source": [
        "\n",
        "$$\n",
        "\\newcommand{\\forcemag}{f}\n",
        "\\newcommand{\\physF}{\\boldsymbol{\\mathfrak{f}}}\n",
        "\\newcommand{\\physB}{\\mathscr{b}} % Width of the thin film\n",
        "\\newcommand{\\physE}{{\\mathpzc{E}}} % Young's modulus of the thin film\n",
        "\\newcommand{\\physh}{\\mathscr{h}} % Thickness of the thin film.\n",
        "\\newcommand{\\physe}{\\mathbscr{e}} % Thickness of the thin film.\n",
        "\\newcommand{\\physf}{\\boldsymbol{\\mathfrak{f}}} % Thickness of the thin film.\n",
        "\\newcommand{\\physm}{\\mathscr{m}}\n",
        "\\newcommand{\\physu}{\\mathbscr{u}}\n",
        "\\newcommand{\\physw}{\\mathscr{w}}\n",
        "\\newcommand{\\rtple}[1]{\\boldsymbol{#1}}\n",
        "\\renewcommand{\\u}[1]{\\boldsymbol{#1}}\n",
        "\\newcommand{\\OriginRefEucldPtSpace}{O_{\\mathrm{ R}}}\n",
        "\\newcommand{\\MapManifoldToRefEucldPtSpace}{\\kappa_{\\mathrm{ R}}}\n",
        "\\renewcommand{\\t}[1]{\\tilde{#1}}\n",
        "\\renewcommand{\\b}[1]{\\mathbb{#1}}\n",
        "\\renewcommand{\\c}[1]{\\mathcal{#1}}\n",
        "\\newcommand{\\lsc}[2][\\mathscr{l}]{{}^{ #1 }\\! #2}\n",
        "\\newcommand{\\lscH}[1]{\\lsc[H]{#1}}\n",
        "\\newcommand{\\dsf}[1]{\\Delta\\boldsymbol{\\sf #1}}\n",
        "\\newcommand{\\tpsb}[1]{\\left. #1 \\right.^{\\sf T}}\n",
        "\\newcommand{\\tps}[1]{\\left( #1 \\right)^{\\sf T}}\n",
        "\\newcommand{\\usf}[1]{\\u{\\sf #1}}\n",
        "\\newcommand{\\busf}[1]{\\bar{\\usf{ #1}}}\n",
        "\\newcommand{\\tu}[1]{\\tilde{\\u{ #1}}}\n",
        "\\newcommand{\\tusf}[1]{\\tilde{\\usf{ #1}}}\n",
        "\\newcommand{\\btusf}[1]{\\bar{\\tusf{ #1}}}\n",
        "\\newcommand{\\pr}[1]{\\left( #1 \\right)}\n",
        "\\newcommand{\\D}[1]{D\\hspace{-.1em}#1}\n",
        "\\newcommand{\\Dr}{D\\hspace{-.1em}\\varrho}\n",
        "\\newcommand{\\Drp}{\\Dr^{+}}\n",
        "\\newcommand{\\Drm}{\\Dr^{-}}\n",
        "\\newcommand{\\Dro}{\\dot{\\rho}}\n",
        "\\newcommand{\\DDro}{\\ddot{\\rho}}\n",
        "\\newcommand{\\Df}{\\dot{f}}\n",
        "\\newcommand{\\DDf}{\\ddot{f}}\n",
        "\\newcommand{\\Drop}{\\Dro^{+}}\n",
        "\\newcommand{\\Drom}{\\Dro^{-}}\n",
        "\\newcommand{\\Dl}{\\dot{l}}\n",
        "\\newcommand{\\Da}{\\dot{a}}\n",
        "\\newcommand{\\DDl}{\\ddot{l}}\n",
        "\\newcommand{\\DF}{\\dot{F}}\n",
        "\\newcommand{\\DDF}{\\ddot{F}}\n",
        "\\newcommand{\\Dlp}{\\Dl^{+}}\n",
        "\\newcommand{\\Dlm}{\\Dl^{-}}\n",
        "\\newcommand{\\Dam}{\\Da^{-}}\n",
        "\\newcommand{\\Deq}{\\mathcal{D}^{\\circ}}\n",
        "\\newcommand{\\Dst}{\\mathcal{D}^{\\stable}}\n",
        "\\newcommand{\\Dnt}{\\mathcal{D}^{\\odot}}\n",
        "\\newcommand{\\Dunst}{\\mathcal{D}^{\\otimes}}\n",
        "\\newcommand{\\conf}{\\boldsymbol{\\kappa}}\n",
        "\\newcommand{\\confp}{\\tilde{\\boldsymbol{\\kappa}}}$$\n",
        "\n",
        "\n",
        "\n",
        "\n"
      ],
      "metadata": {
        "nteract": {
          "transient": {
            "deleting": false
          }
        }
      }
    },
    {
      "cell_type": "code",
      "source": [
        "\n",
        "\n",
        "1."
      ],
      "outputs": [],
      "execution_count": null,
      "metadata": {
        "collapsed": false,
        "jupyter": {
          "source_hidden": false,
          "outputs_hidden": false
        },
        "nteract": {
          "transient": {
            "deleting": false
          }
        }
      }
    }
  ],
  "metadata": {
    "kernelspec": {
      "argv": [
        "python",
        "-m",
        "ipykernel_launcher",
        "-f",
        "{connection_file}"
      ],
      "display_name": "Python 3",
      "language": "python",
      "name": "python3"
    }
  },
  "nbformat": 4,
  "nbformat_minor": 0
}