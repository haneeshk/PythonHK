{
 "cells": [
  {
   "cell_type": "code",
   "execution_count": 1,
   "metadata": {},
   "outputs": [],
   "source": [
    "\n",
    "# %%\n",
    "\n",
    "import sys\n"
   ]
  },
  {
   "cell_type": "code",
   "execution_count": 2,
   "metadata": {},
   "outputs": [],
   "source": [
    "\n",
    "sys.path.append(r'/Users/haneeshkesari/Downloads/cmake_example/cmake-build-debug/')\n"
   ]
  },
  {
   "cell_type": "code",
   "execution_count": 2,
   "metadata": {},
   "outputs": [
    {
     "data": {
      "text/plain": [
       "['/Users/haneeshkesari/Downloads/PythonHK/pybindDemo',\n",
       " '/usr/local/anaconda3/bin',\n",
       " '/Users/haneeshkesari/opt/anaconda3/lib/python38.zip',\n",
       " '/Users/haneeshkesari/opt/anaconda3/lib/python3.8',\n",
       " '/Users/haneeshkesari/opt/anaconda3/lib/python3.8/lib-dynload',\n",
       " '',\n",
       " '/Users/haneeshkesari/opt/anaconda3/lib/python3.8/site-packages',\n",
       " '/Users/haneeshkesari/opt/anaconda3/lib/python3.8/site-packages/aeosa',\n",
       " '/Users/haneeshkesari/opt/anaconda3/lib/python3.8/site-packages/locket-0.2.1-py3.8.egg',\n",
       " '/Users/haneeshkesari/opt/anaconda3/lib/python3.8/site-packages/IPython/extensions',\n",
       " '/Users/haneeshkesari/.ipython']"
      ]
     },
     "execution_count": 2,
     "metadata": {},
     "output_type": "execute_result"
    }
   ],
   "source": [
    "sys.path"
   ]
  },
  {
   "cell_type": "code",
   "execution_count": 3,
   "metadata": {},
   "outputs": [
    {
     "ename": "ModuleNotFoundError",
     "evalue": "No module named 'pythonCppDemo'",
     "output_type": "error",
     "traceback": [
      "\u001b[0;31m---------------------------------------------------------------------------\u001b[0m",
      "\u001b[0;31mModuleNotFoundError\u001b[0m                       Traceback (most recent call last)",
      "\u001b[0;32m<ipython-input-3-0771a3502cd8>\u001b[0m in \u001b[0;36m<module>\u001b[0;34m\u001b[0m\n\u001b[0;32m----> 1\u001b[0;31m \u001b[0;32mfrom\u001b[0m \u001b[0mpythonCppDemo\u001b[0m \u001b[0;32mimport\u001b[0m \u001b[0;34m*\u001b[0m\u001b[0;34m\u001b[0m\u001b[0;34m\u001b[0m\u001b[0m\n\u001b[0m",
      "\u001b[0;31mModuleNotFoundError\u001b[0m: No module named 'pythonCppDemo'"
     ]
    }
   ],
   "source": [
    "\n",
    "from pythonCppDemo import *\n"
   ]
  },
  {
   "cell_type": "code",
   "execution_count": null,
   "metadata": {},
   "outputs": [],
   "source": [
    "import plotly.express as px\n",
    "import plotly.graph_objects as go\n"
   ]
  },
  {
   "cell_type": "code",
   "execution_count": null,
   "metadata": {},
   "outputs": [],
   "source": [
    "\n",
    "# Add data\n",
    "\n",
    "\n",
    "# Create and style traces\n",
    "\n",
    "\n",
    "\n",
    "x=np.array(LinSpace(0,2,100));\n",
    "\n"
   ]
  },
  {
   "cell_type": "code",
   "execution_count": null,
   "metadata": {},
   "outputs": [],
   "source": [
    "# %%\n",
    "def plot(xi,yi):\n",
    "    import pandas as pd\n",
    "    df = pd.DataFrame(dict(\n",
    "    x1 =x,\n",
    "    x2 = yi))\n",
    "\n",
    "    return px.line(df,x=\"x1\",y=\"x2\")\n",
    "\n"
   ]
  },
  {
   "cell_type": "code",
   "execution_count": null,
   "metadata": {},
   "outputs": [],
   "source": [
    "\n",
    "# %%\n",
    "\n",
    "fig=plot(x,cos(10*x)*sin(x));\n",
    "fig.show()\n"
   ]
  },
  {
   "cell_type": "code",
   "execution_count": null,
   "metadata": {},
   "outputs": [],
   "source": [
    "x=LinSpace(-pi,pi,1000);\n",
    "fig = go.Figure()\n",
    "fig.add_trace(go.Scatter(x=x, y=sin(x), name='High 2014',\n",
    "                         line=dict(color='firebrick', width=1,dash=\"dashdot\")))\n"
   ]
  },
  {
   "cell_type": "code",
   "execution_count": 10,
   "metadata": {},
   "outputs": [
    {
     "name": "stdout",
     "output_type": "stream",
     "text": [
      "\u001b[31m_asyncio.cpython-38-darwin.so\u001b[m\u001b[m\r\n",
      "\u001b[31m_bisect.cpython-38-darwin.so\u001b[m\u001b[m\r\n",
      "\u001b[31m_blake2.cpython-38-darwin.so\u001b[m\u001b[m\r\n",
      "\u001b[31m_bz2.cpython-38-darwin.so\u001b[m\u001b[m\r\n",
      "\u001b[31m_codecs_cn.cpython-38-darwin.so\u001b[m\u001b[m\r\n",
      "\u001b[31m_codecs_hk.cpython-38-darwin.so\u001b[m\u001b[m\r\n",
      "\u001b[31m_codecs_iso2022.cpython-38-darwin.so\u001b[m\u001b[m\r\n",
      "\u001b[31m_codecs_jp.cpython-38-darwin.so\u001b[m\u001b[m\r\n",
      "\u001b[31m_codecs_kr.cpython-38-darwin.so\u001b[m\u001b[m\r\n",
      "\u001b[31m_codecs_tw.cpython-38-darwin.so\u001b[m\u001b[m\r\n",
      "\u001b[31m_contextvars.cpython-38-darwin.so\u001b[m\u001b[m\r\n",
      "\u001b[31m_crypt.cpython-38-darwin.so\u001b[m\u001b[m\r\n",
      "\u001b[31m_csv.cpython-38-darwin.so\u001b[m\u001b[m\r\n",
      "\u001b[31m_ctypes.cpython-38-darwin.so\u001b[m\u001b[m\r\n",
      "\u001b[31m_ctypes_test.cpython-38-darwin.so\u001b[m\u001b[m\r\n",
      "\u001b[31m_curses.cpython-38-darwin.so\u001b[m\u001b[m\r\n",
      "\u001b[31m_curses_panel.cpython-38-darwin.so\u001b[m\u001b[m\r\n",
      "\u001b[31m_datetime.cpython-38-darwin.so\u001b[m\u001b[m\r\n",
      "\u001b[31m_dbm.cpython-38-darwin.so\u001b[m\u001b[m\r\n",
      "\u001b[31m_decimal.cpython-38-darwin.so\u001b[m\u001b[m\r\n",
      "\u001b[31m_elementtree.cpython-38-darwin.so\u001b[m\u001b[m\r\n",
      "\u001b[31m_hashlib.cpython-38-darwin.so\u001b[m\u001b[m\r\n",
      "\u001b[31m_heapq.cpython-38-darwin.so\u001b[m\u001b[m\r\n",
      "\u001b[31m_json.cpython-38-darwin.so\u001b[m\u001b[m\r\n",
      "\u001b[31m_lsprof.cpython-38-darwin.so\u001b[m\u001b[m\r\n",
      "\u001b[31m_lzma.cpython-38-darwin.so\u001b[m\u001b[m\r\n",
      "\u001b[31m_md5.cpython-38-darwin.so\u001b[m\u001b[m\r\n",
      "\u001b[31m_multibytecodec.cpython-38-darwin.so\u001b[m\u001b[m\r\n",
      "\u001b[31m_multiprocessing.cpython-38-darwin.so\u001b[m\u001b[m\r\n",
      "\u001b[31m_opcode.cpython-38-darwin.so\u001b[m\u001b[m\r\n",
      "\u001b[31m_pickle.cpython-38-darwin.so\u001b[m\u001b[m\r\n",
      "\u001b[31m_posixshmem.cpython-38-darwin.so\u001b[m\u001b[m\r\n",
      "\u001b[31m_posixsubprocess.cpython-38-darwin.so\u001b[m\u001b[m\r\n",
      "\u001b[31m_queue.cpython-38-darwin.so\u001b[m\u001b[m\r\n",
      "\u001b[31m_random.cpython-38-darwin.so\u001b[m\u001b[m\r\n",
      "\u001b[31m_scproxy.cpython-38-darwin.so\u001b[m\u001b[m\r\n",
      "\u001b[31m_sha1.cpython-38-darwin.so\u001b[m\u001b[m\r\n",
      "\u001b[31m_sha256.cpython-38-darwin.so\u001b[m\u001b[m\r\n",
      "\u001b[31m_sha3.cpython-38-darwin.so\u001b[m\u001b[m\r\n",
      "\u001b[31m_sha512.cpython-38-darwin.so\u001b[m\u001b[m\r\n",
      "\u001b[31m_socket.cpython-38-darwin.so\u001b[m\u001b[m\r\n",
      "\u001b[31m_sqlite3.cpython-38-darwin.so\u001b[m\u001b[m\r\n",
      "\u001b[31m_ssl.cpython-38-darwin.so\u001b[m\u001b[m\r\n",
      "\u001b[31m_statistics.cpython-38-darwin.so\u001b[m\u001b[m\r\n",
      "\u001b[31m_struct.cpython-38-darwin.so\u001b[m\u001b[m\r\n",
      "\u001b[31m_testbuffer.cpython-38-darwin.so\u001b[m\u001b[m\r\n",
      "\u001b[31m_testcapi.cpython-38-darwin.so\u001b[m\u001b[m\r\n",
      "\u001b[31m_testimportmultiple.cpython-38-darwin.so\u001b[m\u001b[m\r\n",
      "\u001b[31m_testinternalcapi.cpython-38-darwin.so\u001b[m\u001b[m\r\n",
      "\u001b[31m_testmultiphase.cpython-38-darwin.so\u001b[m\u001b[m\r\n",
      "\u001b[31m_tkinter.cpython-38-darwin.so\u001b[m\u001b[m\r\n",
      "\u001b[31m_uuid.cpython-38-darwin.so\u001b[m\u001b[m\r\n",
      "\u001b[31m_xxsubinterpreters.cpython-38-darwin.so\u001b[m\u001b[m\r\n",
      "\u001b[31m_xxtestfuzz.cpython-38-darwin.so\u001b[m\u001b[m\r\n",
      "\u001b[31marray.cpython-38-darwin.so\u001b[m\u001b[m\r\n",
      "\u001b[31maudioop.cpython-38-darwin.so\u001b[m\u001b[m\r\n",
      "\u001b[31mbinascii.cpython-38-darwin.so\u001b[m\u001b[m\r\n",
      "\u001b[31mcmath.cpython-38-darwin.so\u001b[m\u001b[m\r\n",
      "\u001b[31mfcntl.cpython-38-darwin.so\u001b[m\u001b[m\r\n",
      "\u001b[31mgrp.cpython-38-darwin.so\u001b[m\u001b[m\r\n",
      "\u001b[31mmath.cpython-38-darwin.so\u001b[m\u001b[m\r\n",
      "\u001b[31mmmap.cpython-38-darwin.so\u001b[m\u001b[m\r\n",
      "\u001b[31mnis.cpython-38-darwin.so\u001b[m\u001b[m\r\n",
      "\u001b[31mparser.cpython-38-darwin.so\u001b[m\u001b[m\r\n",
      "\u001b[31mpyexpat.cpython-38-darwin.so\u001b[m\u001b[m\r\n",
      "\u001b[31mpythonCppDemo.cpython-38-darwin.so\u001b[m\u001b[m\r\n",
      "\u001b[31mreadline.cpython-38-darwin.so\u001b[m\u001b[m\r\n",
      "\u001b[31mresource.cpython-38-darwin.so\u001b[m\u001b[m\r\n",
      "\u001b[31mselect.cpython-38-darwin.so\u001b[m\u001b[m\r\n",
      "\u001b[31msyslog.cpython-38-darwin.so\u001b[m\u001b[m\r\n",
      "\u001b[31mtermios.cpython-38-darwin.so\u001b[m\u001b[m\r\n",
      "\u001b[31municodedata.cpython-38-darwin.so\u001b[m\u001b[m\r\n",
      "\u001b[31mxxlimited.cpython-38-darwin.so\u001b[m\u001b[m\r\n",
      "\u001b[31mzlib.cpython-38-darwin.so\u001b[m\u001b[m\r\n"
     ]
    }
   ],
   "source": [
    "! cd '/Users/haneeshkesari/opt/anaconda3/lib/python3.8/lib-dynload/' && ls"
   ]
  },
  {
   "cell_type": "code",
   "execution_count": 6,
   "metadata": {},
   "outputs": [
    {
     "name": "stdout",
     "output_type": "stream",
     "text": [
      "Untitled.ipynb main.ipynb     main.py\r\n"
     ]
    }
   ],
   "source": [
    "!ls"
   ]
  },
  {
   "cell_type": "code",
   "execution_count": null,
   "metadata": {},
   "outputs": [],
   "source": []
  }
 ],
 "metadata": {
  "hide_input": false,
  "kernelspec": {
   "display_name": "Python 3",
   "language": "python",
   "name": "python3"
  },
  "language_info": {
   "codemirror_mode": {
    "name": "ipython",
    "version": 3
   },
   "file_extension": ".py",
   "mimetype": "text/x-python",
   "name": "python",
   "nbconvert_exporter": "python",
   "pygments_lexer": "ipython3",
   "version": "3.8.8"
  },
  "varInspector": {
   "cols": {
    "lenName": 16,
    "lenType": 16,
    "lenVar": 40
   },
   "kernels_config": {
    "python": {
     "delete_cmd_postfix": "",
     "delete_cmd_prefix": "del ",
     "library": "var_list.py",
     "varRefreshCmd": "print(var_dic_list())"
    },
    "r": {
     "delete_cmd_postfix": ") ",
     "delete_cmd_prefix": "rm(",
     "library": "var_list.r",
     "varRefreshCmd": "cat(var_dic_list()) "
    }
   },
   "position": {
    "height": "100.4px",
    "left": "752px",
    "right": "20px",
    "top": "2px",
    "width": "226px"
   },
   "types_to_exclude": [
    "module",
    "function",
    "builtin_function_or_method",
    "instance",
    "_Feature"
   ],
   "window_display": false
  }
 },
 "nbformat": 4,
 "nbformat_minor": 4
}
