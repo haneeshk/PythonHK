
# %%

import sys
import numpy as np
sys.path.append(r'/Users/haneeshkesari/Downloads/cmake_example/cmake-build-debug/')
from pythonCppDemo import *
import plotly.express as px




x=np.array(LinSpace(-2*pi,2*pi,100));

# %%
def plot(xi,yi):
    import pandas as pd
    df = pd.DataFrame(dict(
    x1 =x,
    x2 = yi))
    return px.line(df,x="x1",y="x2")

# %%
fig=plot(x,sin(x));
fig.show()
