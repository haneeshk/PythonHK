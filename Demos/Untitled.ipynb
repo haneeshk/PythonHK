{
 "cells": [
  {
   "cell_type": "code",
   "execution_count": 1,
   "metadata": {},
   "outputs": [],
   "source": [
    "import numpy as np\n",
    "from functional_notations import _F as _f, F as f"
   ]
  },
  {
   "cell_type": "code",
   "execution_count": null,
   "metadata": {},
   "outputs": [],
   "source": [
    "sin=_f(np.sin)"
   ]
  },
  {
   "cell_type": "code",
   "execution_count": null,
   "metadata": {},
   "outputs": [],
   "source": [
    "sin@(np.pi)\n",
    "sin(np.pi)"
   ]
  },
  {
   "cell_type": "code",
   "execution_count": null,
   "metadata": {},
   "outputs": [],
   "source": [
    "mult1@2\n",
    "f@np.sin@(np.pi/2)\n",
    "\n",
    "list([1,2])\n",
    "f@list@([np.pi/4, 2.0])\n",
    "\n",
    "\n",
    "print=_f(print)\n",
    "print([1,2,3])\n",
    "print@[1,2,3]\n",
    "f@list([np.pi/4])\n",
    "\n",
    "from multimethod import  multimethod, overload, isa\n",
    "\n",
    "\n",
    "\n",
    "@multimethod\n",
    "def fun(x: int):\n",
    "        return x+1\n",
    "\n",
    "@multimethod\n",
    "def fun(x: float):\n",
    "        return x+2\n",
    "\n",
    "\n",
    "if(x>3,True,)\n",
    "\n",
    "@overload\n",
    "def fun1(x:  lambda x: x>3):\n",
    "        return x+3.0\n",
    "\n",
    "\n",
    "@overload\n",
    "def fun1(x:  (isa(tuple) and (lambda x : x[0]>3))):\n",
    "        return x\n",
    "\n",
    "\n",
    "@overload\n",
    "def fun1(x:  (isa(list) and (lambda x : x[0]>3))):\n",
    "        return x\n",
    "\n",
    "(4.0,3.0)[0]\n",
    "y=f@tuple@[4.0,3.0];\n",
    "y\n",
    "x=fun1(y)\n",
    "\n",
    "\n",
    "f@print@[id(y),type(y),id(x),type(x)]\n",
    "\n",
    "\n",
    "x[0]=0.0\n",
    "y\n",
    "\n",
    "f@print@[id(y),type(y),id(x),type(x)]\n",
    "\n",
    "\n",
    "\n",
    "names=['John', 'James','Bill']\n",
    "f@list@map(lambda x: x+' smith',names)\n",
    "lase"
   ]
  }
 ],
 "metadata": {
  "hide_input": false,
  "kernelspec": {
   "display_name": "Python 3",
   "language": "python",
   "name": "python3"
  },
  "language_info": {
   "codemirror_mode": {
    "name": "ipython",
    "version": 3
   },
   "file_extension": ".py",
   "mimetype": "text/x-python",
   "name": "python",
   "nbconvert_exporter": "python",
   "pygments_lexer": "ipython3",
   "version": "3.7.4"
  },
  "varInspector": {
   "cols": {
    "lenName": 16,
    "lenType": 16,
    "lenVar": 40
   },
   "kernels_config": {
    "python": {
     "delete_cmd_postfix": "",
     "delete_cmd_prefix": "del ",
     "library": "var_list.py",
     "varRefreshCmd": "print(var_dic_list())"
    },
    "r": {
     "delete_cmd_postfix": ") ",
     "delete_cmd_prefix": "rm(",
     "library": "var_list.r",
     "varRefreshCmd": "cat(var_dic_list()) "
    }
   },
   "types_to_exclude": [
    "module",
    "function",
    "builtin_function_or_method",
    "instance",
    "_Feature"
   ],
   "window_display": false
  }
 },
 "nbformat": 4,
 "nbformat_minor": 2
}
