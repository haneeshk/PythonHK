{
 "cells": [
  {
   "cell_type": "code",
   "execution_count": 1,
   "metadata": {
    "code_folding": [
     0
    ]
   },
   "outputs": [],
   "source": [
    "# Black plotting\n",
    "import os\n",
    "import pandas as pd\n",
    "import numpy as np\n",
    "import matplotlib.pyplot as plt\n",
    "import seaborn as sns\n",
    "from jupyterthemes import jtplot\n",
    "jtplot.style(theme='monokai', context='notebook', ticks=True, grid=False)\n"
   ]
  },
  {
   "cell_type": "code",
   "execution_count": 2,
   "metadata": {
    "code_folding": [
     0,
     2,
     6,
     10,
     12
    ]
   },
   "outputs": [],
   "source": [
    "# \n",
    "import re\n",
    "def genPatt(patt):\n",
    "    p=re.compile(str(patt))\n",
    "    return lambda x: bool(re.search(p,str(x)))\n",
    "\n",
    "def only(patt,strs):\n",
    "    _ = genPatt(patt)\n",
    "    _ = filter(_, strs)\n",
    "    return list(_)\n",
    "def TableForm(lst):\n",
    "    print(*lst, sep='\\n')\n",
    "class Slash2:\n",
    "    def __init__(self, fn):\n",
    "        self.fn = fn\n",
    "\n",
    "    def __rfloordiv__(self, other):\n",
    "        return self.fn(other)    \n"
   ]
  },
  {
   "cell_type": "code",
   "execution_count": 3,
   "metadata": {
    "code_folding": [
     0
    ]
   },
   "outputs": [],
   "source": [
    "# Alias\n",
    "s=Slash2;\n",
    "from notebook.services.config import ConfigManager\n",
    "cm = ConfigManager().update('notebook', {'limit_output': 5000})"
   ]
  },
  {
   "cell_type": "code",
   "execution_count": 4,
   "metadata": {
    "code_folding": [
     0
    ]
   },
   "outputs": [],
   "source": [
    "# importing\n",
    "from sympy import Symbol, simplify, expand, lambdify, together, apart, pprint, init_printing, sin, cos, tan, atan\n",
    "init_printing(use_latex='mathjax')\n",
    "from sympy import diff as D\n",
    "from numpy import pi \n",
    "from numpy import arange as Range\n",
    "from numpy import linspace as linspace\n",
    "from IPython.display import display as Echo"
   ]
  },
  {
   "cell_type": "code",
   "execution_count": 5,
   "metadata": {
    "code_folding": [
     0
    ]
   },
   "outputs": [
    {
     "data": {
      "text/latex": [
       "$\\displaystyle \\,^j\\!\\boldsymbol{\\mathbb{X}}_{k}$"
      ],
      "text/plain": [
       "\\,_{k}__j\\!\\boldsymbol{\\mathbb{X}}"
      ]
     },
     "execution_count": 5,
     "metadata": {},
     "output_type": "execute_result"
    },
    {
     "data": {
      "text/latex": [
       "$\\displaystyle \\sin{\\left(\\,^j\\!\\boldsymbol{\\mathbb{X}}_{k} \\right)}$"
      ],
      "text/plain": [
       "sin(\\,_{k}__j\\!\\boldsymbol{\\mathbb{X}})"
      ]
     },
     "execution_count": 5,
     "metadata": {},
     "output_type": "execute_result"
    },
    {
     "data": {
      "text/latex": [
       "$\\displaystyle \\sin{\\left(2 \\,^j\\!\\boldsymbol{\\mathbb{X}}_{k} \\right)}$"
      ],
      "text/plain": [
       "sin(2⋅\\,_{k}__j\\!\\boldsymbol{\\mathbb{X}})"
      ]
     },
     "execution_count": 5,
     "metadata": {},
     "output_type": "execute_result"
    }
   ],
   "source": [
    "# Symbols\n",
    "x=Symbol(r\"\\,^j\\!\\boldsymbol{\\mathbb{X}}_{k}\");\n",
    "x//s(Echo);\n",
    "_=sin(x);         _//s(Echo);\n",
    "expr= D(pow(_,2),x); expr//s(simplify)//s(Echo);\n",
    "# D(pow(_1,2),x)"
   ]
  },
  {
   "cell_type": "code",
   "execution_count": 6,
   "metadata": {
    "code_folding": [
     0
    ]
   },
   "outputs": [
    {
     "name": "stdout",
     "output_type": "stream",
     "text": [
      "0.0\n",
      "1.2246467991473532e-16\n",
      "1.0\n"
     ]
    }
   ],
   "source": [
    "#lambdafy\n",
    "f=lambdify(x,expr,'numpy');\n",
    "[f(0), f(pi/2),f(pi/4)]//s(TableForm)"
   ]
  },
  {
   "cell_type": "code",
   "execution_count": 7,
   "metadata": {
    "code_folding": [
     0
    ]
   },
   "outputs": [
    {
     "name": "stdout",
     "output_type": "stream",
     "text": [
      "\n",
      "\n",
      "0.0\n",
      "0.06346651825433926\n",
      "0.12693303650867852\n",
      "0.1903995547630178\n",
      "0.25386607301735703\n",
      "0.3173325912716963\n",
      "0.3807991095260356\n",
      "0.4442656277803748\n",
      "0.5077321460347141\n",
      "0.5711986642890533\n",
      "0.6346651825433925\n",
      "0.6981317007977318\n",
      "0.7615982190520711\n",
      "0.8250647373064104\n",
      "0.8885312555607496\n",
      "0.9519977738150889\n",
      "1.0154642920694281\n",
      "1.0789308103237674\n",
      "1.1423973285781066\n",
      "1.2058638468324459\n",
      "1.269330365086785\n",
      "1.3327968833411243\n",
      "1.3962634015954636\n",
      "1.4597299198498028\n",
      "1.5231964381041423\n",
      "1.5866629563584815\n",
      "1.6501294746128208\n",
      "1.71359599286716\n",
      "1.7770625111214993\n",
      "1.8405290293758385\n",
      "1.9039955476301778\n",
      "1.967462065884517\n",
      "2.0309285841388562\n",
      "2.0943951023931957\n",
      "2.1578616206475347\n",
      "2.221328138901874\n",
      "2.284794657156213\n",
      "2.3482611754105527\n",
      "2.4117276936648917\n",
      "2.475194211919231\n",
      "2.53866073017357\n",
      "2.6021272484279097\n",
      "2.6655937666822487\n",
      "2.729060284936588\n",
      "2.792526803190927\n",
      "2.8559933214452666\n",
      "2.9194598396996057\n",
      "2.982926357953945\n",
      "3.0463928762082846\n",
      "3.1098593944626236\n",
      "3.173325912716963\n",
      "3.236792430971302\n",
      "3.3002589492256416\n",
      "3.3637254674799806\n",
      "3.42719198573432\n",
      "3.490658503988659\n",
      "3.5541250222429985\n",
      "3.6175915404973376\n",
      "3.681058058751677\n",
      "3.744524577006016\n",
      "3.8079910952603555\n",
      "3.8714576135146945\n",
      "3.934924131769034\n",
      "3.998390650023373\n",
      "4.0618571682777125\n",
      "4.1253236865320515\n",
      "4.188790204786391\n",
      "4.25225672304073\n",
      "4.3157232412950695\n",
      "4.3791897595494085\n",
      "4.442656277803748\n",
      "4.506122796058087\n",
      "4.569589314312426\n",
      "4.6330558325667655\n",
      "4.696522350821105\n",
      "4.759988869075444\n",
      "4.823455387329783\n",
      "4.886921905584122\n",
      "4.950388423838462\n",
      "5.013854942092801\n",
      "5.07732146034714\n",
      "5.14078797860148\n",
      "5.204254496855819\n",
      "5.267721015110158\n",
      "5.331187533364497\n",
      "5.394654051618837\n",
      "5.458120569873176\n",
      "5.521587088127515\n",
      "5.585053606381854\n",
      "5.648520124636194\n",
      "5.711986642890533\n",
      "5.775453161144872\n",
      "5.838919679399211\n",
      "5.902386197653551\n",
      "5.96585271590789\n",
      "6.029319234162229\n",
      "6.092785752416569\n",
      "6.156252270670908\n",
      "6.219718788925247\n",
      "6.283185307179586\n"
     ]
    }
   ],
   "source": [
    "# Range and linspace\n",
    "Range(0,1,0.1); \n",
    "print(\"\\n\")\n",
    "xvec=linspace(0,2*pi,100); xvec//s(print);"
   ]
  },
  {
   "cell_type": "code",
   "execution_count": 8,
   "metadata": {
    "code_folding": [
     0
    ],
    "scrolled": true
   },
   "outputs": [
    {
     "name": "stdout",
     "output_type": "stream",
     "text": [
      "0.0\n",
      "0.12659245357374926\n",
      "0.2511479871810792\n",
      "0.3716624556603275\n",
      "0.4861967361004687\n",
      "0.5929079290546405\n",
      "0.690079011482112\n",
      "0.7761464642917568\n",
      "0.8497254299495144\n",
      "0.9096319953545183\n",
      "0.9549022414440739\n",
      "0.9848077530122079\n",
      "0.998867339183008\n",
      "0.9968547759519424\n",
      "0.9788024462147787\n",
      "0.9450008187146685\n",
      "0.8959937742913358\n",
      "0.8325698546347714\n",
      "0.7557495743542583\n",
      "0.6667690005162916\n",
      "0.5670598638627709\n",
      "0.45822652172741046\n",
      "0.3420201433256688\n",
      "0.2203105327865408\n",
      "0.09505604330418244\n",
      "-0.03172793349806786\n",
      "-0.15800139597335008\n",
      "-0.28173255684142984\n",
      "-0.40093053540661383\n",
      "-0.5136773915734064\n",
      "-0.6181589862206053\n",
      "-0.7126941713788629\n",
      "-0.7957618405308321\n",
      "-0.8660254037844388\n",
      "-0.9223542941045814\n",
      "-0.9638421585599422\n",
      "-0.9898214418809326\n",
      "-0.999874127673875\n",
      "-0.9938384644612542\n",
      "-0.9718115683235414\n",
      "-0.9341478602651069\n",
      "-0.881453363447582\n",
      "-0.8145759520503358\n",
      "-0.7345917086575331\n",
      "-0.6427876096865396\n",
      "-0.5406408174555976\n",
      "-0.429794912089172\n",
      "-0.31203344569848707\n",
      "-0.18925124436040974\n",
      "-0.06342391965656452\n",
      "0.06342391965656492\n",
      "0.18925124436041013\n",
      "0.31203344569848745\n",
      "0.4297949120891715\n",
      "0.5406408174555979\n",
      "0.6427876096865393\n",
      "0.7345917086575334\n",
      "0.8145759520503355\n",
      "0.8814533634475821\n",
      "0.9341478602651065\n",
      "0.9718115683235417\n",
      "0.9938384644612541\n",
      "0.9998741276738751\n",
      "0.9898214418809328\n",
      "0.9638421585599419\n",
      "0.9223542941045817\n",
      "0.8660254037844382\n",
      "0.7957618405308319\n",
      "0.7126941713788629\n",
      "0.6181589862206056\n",
      "0.5136773915734058\n",
      "0.40093053540661344\n",
      "0.28173255684142984\n",
      "0.15800139597335056\n",
      "0.03172793349806702\n",
      "-0.09505604330418284\n",
      "-0.22031053278654034\n",
      "-0.342020143325668\n",
      "-0.45822652172741085\n",
      "-0.5670598638627709\n",
      "-0.6667690005162913\n",
      "-0.7557495743542589\n",
      "-0.8325698546347716\n",
      "-0.8959937742913358\n",
      "-0.9450008187146682\n",
      "-0.978802446214779\n",
      "-0.9968547759519424\n",
      "-0.998867339183008\n",
      "-0.9848077530122081\n",
      "-0.9549022414440737\n",
      "-0.9096319953545182\n",
      "-0.8497254299495146\n",
      "-0.7761464642917573\n",
      "-0.6900790114821115\n",
      "-0.5929079290546404\n",
      "-0.48619673610046904\n",
      "-0.3716624556603267\n",
      "-0.2511479871810788\n",
      "-0.1265924535737493\n",
      "-4.898587196589413e-16\n"
     ]
    }
   ],
   "source": [
    "# Map\n",
    "yvec=map(f,xvec)//s(lambda x : np.fromiter(x,float)); \n",
    "yvec//s(print);\n"
   ]
  },
  {
   "cell_type": "code",
   "execution_count": 9,
   "metadata": {
    "code_folding": []
   },
   "outputs": [
    {
     "data": {
      "image/png": "[encoded data removed]",
      "text/plain": [
       "<Figure size 576x504 with 1 Axes>"
      ]
     },
     "execution_count": 9,
     "metadata": {
      "image/png": {
       "height": 419,
       "width": 505
      }
     },
     "output_type": "execute_result"
    }
   ],
   "source": [
    "# Plot\n",
    "from matplotlib import pyplot as plt\n",
    "plt.plot(xvec,yvec,'-ow',xvec, np.sin(2*xvec),'--w');\n"
   ]
  },
  {
   "cell_type": "code",
   "execution_count": 0,
   "metadata": {},
   "outputs": [],
   "source": []
  }
 ],
 "metadata": {
  "hide_input": false,
  "kernelspec": {
   "display_name": "Python 3 (system-wide)",
   "language": "python",
   "name": "python3"
  },
  "language_info": {
   "codemirror_mode": {
    "name": "ipython",
    "version": 3
   },
   "file_extension": ".py",
   "mimetype": "text/x-python",
   "name": "python",
   "nbconvert_exporter": "python",
   "pygments_lexer": "ipython3",
   "version": "3.6.9"
  },
  "latex_envs": {
   "LaTeX_envs_menu_present": true,
   "autoclose": false,
   "autocomplete": true,
   "bibliofile": "biblio.bib",
   "cite_by": "apalike",
   "current_citInitial": 1,
   "eqLabelWithNumbers": true,
   "eqNumInitial": 1,
   "hotkeys": {
    "equation": "Ctrl-E",
    "itemize": "Ctrl-I"
   },
   "labels_anchors": false,
   "latex_user_defs": false,
   "report_style_numbering": true,
   "user_envs_cfg": false
  },
  "varInspector": {
   "cols": {
    "lenName": 16,
    "lenType": 16,
    "lenVar": 40
   },
   "kernels_config": {
    "python": {
     "delete_cmd_postfix": "",
     "delete_cmd_prefix": "del ",
     "library": "var_list.py",
     "varRefreshCmd": "print(var_dic_list())"
    },
    "r": {
     "delete_cmd_postfix": ") ",
     "delete_cmd_prefix": "rm(",
     "library": "var_list.r",
     "varRefreshCmd": "cat(var_dic_list()) "
    }
   },
   "types_to_exclude": [
    "module",
    "function",
    "builtin_function_or_method",
    "instance",
    "_Feature"
   ],
   "window_display": false
  }
 },
 "nbformat": 4,
 "nbformat_minor": 4
}
