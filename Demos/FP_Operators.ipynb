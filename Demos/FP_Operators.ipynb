{
 "cells": [
  {
   "cell_type": "markdown",
   "metadata": {
    "deletable": false,
    "editable": false
   },
   "source": [
    "# Use of composition operators"
   ]
  },
  {
   "cell_type": "code",
   "execution_count": 7,
   "metadata": {
    "ExecuteTime": {
     "end_time": "2020-05-01T02:51:40.034747Z",
     "start_time": "2020-05-01T02:51:40.030923Z"
    },
    "deletable": false,
    "editable": false
   },
   "outputs": [],
   "source": [
    "from IPython.display import display as Echo\n",
    "from numpy import * \n",
    "import numpy as np\n",
    "from funcoperators import postfix as to, infix, compose as ov # composition operator\n",
    "@infix\n",
    "def at(func, arg):                          # evaluate at operator\n",
    "    return list(map(func,[arg]))[0]"
   ]
  },
  {
   "cell_type": "code",
   "execution_count": 8,
   "metadata": {
    "ExecuteTime": {
     "end_time": "2020-05-01T02:51:57.111727Z",
     "start_time": "2020-05-01T02:51:57.106818Z"
    },
    "deletable": false,
    "editable": false,
    "run_control": {
     "frozen": true
    }
   },
   "outputs": [
    {
     "data": {
      "text/plain": [
       "6.123233995736766e-17"
      ]
     },
     "metadata": {},
     "output_type": "display_data"
    },
    {
     "data": {
      "text/plain": [
       "6.123233995736766e-17"
      ]
     },
     "metadata": {},
     "output_type": "display_data"
    },
    {
     "data": {
      "text/plain": [
       "6.123233995736766e-17"
      ]
     },
     "metadata": {},
     "output_type": "display_data"
    },
    {
     "data": {
      "text/plain": [
       "6.123233995736766e-17"
      ]
     },
     "metadata": {},
     "output_type": "display_data"
    },
    {
     "data": {
      "text/plain": [
       "6.123233995736766e-17"
      ]
     },
     "metadata": {},
     "output_type": "display_data"
    }
   ],
   "source": [
    "# demonstration of at\n",
    "\n",
    "\n",
    "Echo(cos(pi/2))\n",
    "Echo(cos-at-pi/2)\n",
    "Echo-at-(cos-at-(pi/2))\n",
    "Echo-at-cos*at*(pi/2)\n",
    "Echo-at-cos*at*(pi/2)"
   ]
  },
  {
   "cell_type": "code",
   "execution_count": 9,
   "metadata": {
    "ExecuteTime": {
     "end_time": "2020-04-30T14:06:42.671115Z",
     "start_time": "2020-04-30T14:06:42.663313Z"
    },
    "deletable": false,
    "editable": false
   },
   "outputs": [
    {
     "data": {
      "text/plain": [
       "1.0"
      ]
     },
     "metadata": {},
     "output_type": "display_data"
    },
    {
     "data": {
      "text/plain": [
       "1.0"
      ]
     },
     "metadata": {},
     "output_type": "display_data"
    },
    {
     "data": {
      "text/plain": [
       "1.0"
      ]
     },
     "metadata": {},
     "output_type": "display_data"
    },
    {
     "data": {
      "text/plain": [
       "1.0"
      ]
     },
     "metadata": {},
     "output_type": "display_data"
    },
    {
     "data": {
      "text/plain": [
       "1.0"
      ]
     },
     "metadata": {},
     "output_type": "display_data"
    },
    {
     "data": {
      "text/plain": [
       "1.0"
      ]
     },
     "metadata": {},
     "output_type": "display_data"
    },
    {
     "data": {
      "text/plain": [
       "1.0"
      ]
     },
     "metadata": {},
     "output_type": "display_data"
    },
    {
     "data": {
      "text/plain": [
       "1.0"
      ]
     },
     "metadata": {},
     "output_type": "display_data"
    }
   ],
   "source": [
    "# ov\n",
    "\n",
    "sq= lambda x : x*x;\n",
    "f=sin-ov-sq;\n",
    "x=sqrt(pi/2)\n",
    "\n",
    "Echo(sin(sq(x)))\n",
    "Echo((sin-ov-sq)(x))\n",
    "# Echo(sin-ov-sq(x)) # does not work\n",
    "Echo(f(x))\n",
    "Echo(f-at-x)\n",
    "Echo-at-(f-at-x)\n",
    "# Echo-at-f-at-x # does not work\n",
    "Echo-at-(f-at-x)\n",
    "Echo|at|f/at/x\n",
    "Echo-ov-f-at-x\n"
   ]
  },
  {
   "cell_type": "code",
   "execution_count": 10,
   "metadata": {
    "deletable": false,
    "editable": false
   },
   "outputs": [
    {
     "name": "stdout",
     "output_type": "stream",
     "text": [
      "[1.0, 2.0, 4.0]\n",
      "[1.0, 2.0, 4.0]\n",
      "7.0\n",
      "8.0\n"
     ]
    },
    {
     "data": {
      "text/latex": [
       "$\\displaystyle \\bar{\\boldsymbol{\\mathsf{X}}}_i$"
      ],
      "text/plain": [
       "\\bar{\\boldsymbol{\\mathsf{X}}}_i"
      ]
     },
     "metadata": {},
     "output_type": "display_data"
    },
    {
     "data": {
      "text/latex": [
       "$\\displaystyle 2 \\sin{\\left(\\,^j\\boldsymbol{\\mathbb{X}}_i \\right)} \\cos{\\left(\\,^j\\boldsymbol{\\mathbb{X}}_i \\right)}$"
      ],
      "text/plain": [
       "2*sin(\\,^j\\boldsymbol{\\mathbb{X}}_i)*cos(\\,^j\\boldsymbol{\\mathbb{X}}_i)"
      ]
     },
     "metadata": {},
     "output_type": "display_data"
    },
    {
     "data": {
      "text/latex": [
       "$\\displaystyle 2 \\sin{\\left(\\,^j\\boldsymbol{\\mathbb{X}}_i \\right)} \\cos{\\left(\\,^j\\boldsymbol{\\mathbb{X}}_i \\right)}$"
      ],
      "text/plain": [
       "2*sin(\\,^j\\boldsymbol{\\mathbb{X}}_i)*cos(\\,^j\\boldsymbol{\\mathbb{X}}_i)"
      ]
     },
     "metadata": {},
     "output_type": "display_data"
    },
    {
     "data": {
      "text/latex": [
       "$\\displaystyle 2 \\sin{\\left(\\,^j\\boldsymbol{\\mathbb{X}}_i \\right)} \\cos{\\left(\\,^j\\boldsymbol{\\mathbb{X}}_i \\right)}$"
      ],
      "text/plain": [
       "2*sin(\\,^j\\boldsymbol{\\mathbb{X}}_i)*cos(\\,^j\\boldsymbol{\\mathbb{X}}_i)"
      ]
     },
     "metadata": {},
     "output_type": "display_data"
    },
    {
     "data": {
      "text/latex": [
       "$\\displaystyle 2 \\sin{\\left(\\,^j\\boldsymbol{\\mathbb{X}}_i \\right)} \\cos{\\left(\\,^j\\boldsymbol{\\mathbb{X}}_i \\right)}$"
      ],
      "text/plain": [
       "2*sin(\\,^j\\boldsymbol{\\mathbb{X}}_i)*cos(\\,^j\\boldsymbol{\\mathbb{X}}_i)"
      ]
     },
     "metadata": {},
     "output_type": "display_data"
    },
    {
     "data": {
      "text/latex": [
       "$\\displaystyle 2 \\sin{\\left(\\,^j\\boldsymbol{\\mathbb{X}}_i \\right)} \\cos{\\left(\\,^j\\boldsymbol{\\mathbb{X}}_i \\right)}$"
      ],
      "text/plain": [
       "2*sin(\\,^j\\boldsymbol{\\mathbb{X}}_i)*cos(\\,^j\\boldsymbol{\\mathbb{X}}_i)"
      ]
     },
     "metadata": {},
     "output_type": "display_data"
    }
   ],
   "source": [
    "# to\n",
    "from sympy import Symbol, sin as symsin, cos as symcos, simplify, diff\n",
    "s1=Symbol(r\"\\bar{\\boldsymbol{\\mathsf{X}}}_i\")\n",
    "s2=Symbol(r\"\\,^j\\boldsymbol{\\mathbb{X}}_i\")\n",
    "x=[1.0,2.0,4.0]\n",
    "print(x);\n",
    "x-to*at*print;\n",
    "x-to*at*sum-to*at*print;\n",
    "x-to*at*product-to*at*print;\n",
    "s1-to*at*display;\n",
    "diff(symsin(s2)**2,s2)-to*at*display;\n",
    "diff((symsin*at*s2)**2,s2)-to*at*display;\n",
    "diff((symsin*at*s2)-to*at*(lambda x : x**2),s2)-to*at*display;\n",
    "diff(symsin*at*s2-to*at*(lambda x : x**2),s2)-to*at*display;\n",
    "symsin*at*s2-to*at*(lambda x : x**2)-to*at*(lambda x: diff(x,s2))-to*at*display;\n"
   ]
  },
  {
   "cell_type": "code",
   "execution_count": 11,
   "metadata": {
    "ExecuteTime": {
     "end_time": "2020-04-30T14:03:50.171119Z",
     "start_time": "2020-04-30T14:03:50.059683Z"
    },
    "deletable": false,
    "editable": false
   },
   "outputs": [],
   "source": [
    "# Black plotting\n",
    "import os\n",
    "import pandas as pd\n",
    "\n",
    "import matplotlib.pyplot as plt\n",
    "import seaborn as sns\n",
    "from jupyterthemes import jtplot\n",
    "jtplot.style(theme='monokai', context='notebook', ticks=True, grid=False)"
   ]
  },
  {
   "cell_type": "code",
   "execution_count": 12,
   "metadata": {
    "ExecuteTime": {
     "end_time": "2020-04-30T14:03:50.171119Z",
     "start_time": "2020-04-30T14:03:50.059683Z"
    },
    "deletable": false,
    "editable": false
   },
   "outputs": [
    {
     "data": {
      "image/png": "[encoded data removed]",
      "text/plain": [
       "<Figure size 576x504 with 1 Axes>"
      ]
     },
     "metadata": {},
     "output_type": "display_data"
    }
   ],
   "source": [
    "f=(np.sin-ov-np.cos)\n",
    "x=linspace(0,pi, 10);\n",
    "# x-to*at*display\n",
    "plt.plot(x,np.sin(np.cos(x)),'ow',x,np.sin*ov*np.cos-at-x,'-w',linewidth=0.6);\n",
    "# plt.show();"
   ]
  }
 ],
 "metadata": {
  "gist": {
   "data": {
    "description": "Untitled.ipynb",
    "public": false
   },
   "id": ""
  },
  "kernelspec": {
   "display_name": "Python 3",
   "language": "python",
   "name": "python3"
  },
  "language_info": {
   "codemirror_mode": {
    "name": "ipython",
    "version": 3
   },
   "file_extension": ".py",
   "mimetype": "text/x-python",
   "name": "python",
   "nbconvert_exporter": "python",
   "pygments_lexer": "ipython3",
   "version": "3.7.4"
  },
  "varInspector": {
   "cols": {
    "lenName": 16,
    "lenType": 16,
    "lenVar": 40
   },
   "kernels_config": {
    "python": {
     "delete_cmd_postfix": "",
     "delete_cmd_prefix": "del ",
     "library": "var_list.py",
     "varRefreshCmd": "print(var_dic_list())"
    },
    "r": {
     "delete_cmd_postfix": ") ",
     "delete_cmd_prefix": "rm(",
     "library": "var_list.r",
     "varRefreshCmd": "cat(var_dic_list()) "
    }
   },
   "types_to_exclude": [
    "module",
    "function",
    "builtin_function_or_method",
    "instance",
    "_Feature"
   ],
   "window_display": false
  }
 },
 "nbformat": 4,
 "nbformat_minor": 4
}
